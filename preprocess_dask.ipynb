{
 "cells": [
  {
   "cell_type": "markdown",
   "metadata": {},
   "source": [
    "# Preprocess (Blaze/Dask)\n",
    "### Takes raw numpy arrays (just in time), converts them to dataframes, generates jet images, and normalizes variables"
   ]
  },
  {
   "cell_type": "markdown",
   "metadata": {},
   "source": [
    "## Setup"
   ]
  },
  {
   "cell_type": "code",
   "execution_count": 3,
   "metadata": {
    "collapsed": false
   },
   "outputs": [
    {
     "name": "stderr",
     "output_type": "stream",
     "text": [
      "Using TensorFlow backend.\n"
     ]
    }
   ],
   "source": [
    "import glob\n",
    "import os\n",
    "import time\n",
    "\n",
    "import numpy as np\n",
    "seed = 7\n",
    "np.random.seed(seed)\n",
    "import pandas as pd\n",
    "import dask.array as da\n",
    "import dask.dataframe as dd\n",
    "from keras import backend as K\n",
    "\n",
    "import matplotlib as mpl\n",
    "import matplotlib.pyplot as plt\n",
    "%matplotlib inline\n",
    "\n",
    "from utils import profile_data"
   ]
  },
  {
   "cell_type": "code",
   "execution_count": 4,
   "metadata": {
    "collapsed": true
   },
   "outputs": [],
   "source": [
    "####################\n",
    "# Global Variables #\n",
    "####################\n",
    "radius = 'ak5' # Jet radius to use. Either 'ak5' or 'ak7'\n",
    "\n",
    "nx = 25 if radius == 'ak5' else 30 # size of image in eta\n",
    "ny = 25 if radius == 'ak5' else 30 # size of image in phi\n",
    "xbins = np.linspace(-1.0,1.0,nx+1)\n",
    "ybins = np.linspace(-1.0,1.0,ny+1)"
   ]
  },
  {
   "cell_type": "markdown",
   "metadata": {},
   "source": [
    "## Functions"
   ]
  },
  {
   "cell_type": "code",
   "execution_count": 5,
   "metadata": {
    "collapsed": true
   },
   "outputs": [],
   "source": [
    "def make_jet_images(df_jets, df_cands):\n",
    "    njets = len(df_jets)\n",
    "    x_coords, y_coords, w_values = [], [], []    \n",
    "    jet_images=np.zeros((njets, nx, ny, 1)) # 4D tensor with indices: jet index, eta, phi, pt/rgb value\n",
    "\n",
    "    for i in range(0, njets):\n",
    "        \n",
    "        if i%10000==0: print('\\tProcessed {} events out of {}'.format(i, njets))\n",
    "\n",
    "        # Get the pf cands of the ith jet by matching the jet to its pf cands\n",
    "        df_cand_i = df_cands[(df_cands['pfcand_ijet'] == df_jets['pfcand_ijet'].iloc[i]) &\n",
    "                             (df_cands['event'] == df_jets['event'].iloc[i]) &\n",
    "                             (df_cands['jet_pt'] == df_jets['jet_pt'].iloc[i])]\n",
    "\n",
    "        # Center jet on highest pt pf cand and convert (eta, phi) coordinates to (x, y)\n",
    "        x = df_cand_i['pfcand_eta']-df_cand_i['pfcand_eta'].iloc[0]\n",
    "        y = df_cand_i['pfcand_phi']-df_cand_i['pfcand_phi'].iloc[0]\n",
    "        weights = df_cand_i['pfcand_pt'] # pt of candidate is the weight\n",
    "\n",
    "        # Store values\n",
    "        x_coords.append(x)\n",
    "        y_coords.append(y)\n",
    "        w_values.append(weights)\n",
    "        \n",
    "        # Create a 2D histogram representing the jet image and then convert to an array\n",
    "        hist, xedges, yedges = np.histogram2d(x.values, y.values, weights=weights, bins=(xbins,ybins))\n",
    "        for ix in range(0,nx):\n",
    "            for iy in range(0,ny):\n",
    "                jet_images[i,ix,iy,0] = hist[ix,iy]\n",
    "\n",
    "    # Store values for all jets\n",
    "    all_x = np.concatenate(x_coords)\n",
    "    all_y = np.concatenate(y_coords)\n",
    "    all_w = np.concatenate(w_values)\n",
    "    all_w /= njets # To get average values\n",
    "    \n",
    "    return jet_images, [all_x, all_y, all_w]"
   ]
  },
  {
   "cell_type": "code",
   "execution_count": 6,
   "metadata": {
    "collapsed": true
   },
   "outputs": [],
   "source": [
    "def process_one(infile):\n",
    "    start = time.clock()\n",
    "    \n",
    "    # Load file\n",
    "    data = np.load(infile)\n",
    "    \n",
    "    # Create dataframes holding the jet-level information and pf candidate-level information\n",
    "    df_jets = pd.DataFrame(data,columns=['run','lumi','event','met','sumet','rho','pthat','mcweight','njet','jet_pt','jet_eta','jet_phi','jet_E','jet_area','jet_jes','gen_pt','jet_gen_dr',\n",
    "                                                  'chf','nhf','phf','elf','muf','hf_hf','hf_phf','hf_hm','hf_phm','chm','nhm','phm','elm','mum','beta','bstar','pfcand_ijet'])\n",
    "    df_jets = df_jets.drop_duplicates()\n",
    "    df_jets = df_jets[(df_jets.jet_pt > 50)]\n",
    "\n",
    "    df_cands = pd.DataFrame(data, columns=['event', 'jet_pt', 'jet_eta', 'jet_phi','pfcand_pt', 'pfcand_eta', 'pfcand_phi', 'pfcand_id', 'pfcand_charge', 'pfcand_ijet'])\n",
    "    df_cands = df_cands[(df_cands.jet_pt > 50)]\n",
    "      \n",
    "    # Add response to dataframe\n",
    "    df_jets['jet_resp'] = df_jets['jet_pt']/df_jets['gen_pt']\n",
    "        \n",
    "    # Make jet images\n",
    "    jet_images, avg_image = make_jet_images(df_jets, df_cands)\n",
    "    # Add jet images to dataframe\n",
    "    df_jets['jet_images'] = [x for x in jet_images]\n",
    "\n",
    "    end = time.clock()\n",
    "    mins = (end-start)/60.\n",
    "    \n",
    "    print('\\n\\tFinished file in {:.2f} minutes ({:.2f} events/minute)\\n'.format(mins, len(df_jets)/mins))\n",
    "    return df_jets"
   ]
  },
  {
   "cell_type": "markdown",
   "metadata": {},
   "source": [
    "## Processing"
   ]
  },
  {
   "cell_type": "code",
   "execution_count": null,
   "metadata": {
    "collapsed": true
   },
   "outputs": [],
   "source": [
    "first_file, last_file = 1, 26\n",
    "files = ['/cms-sc17/deepjec/{}PFJetsParams0_{}.npy'.format(radius, x) for x in range(first_file, last_file+1)]"
   ]
  },
  {
   "cell_type": "code",
   "execution_count": null,
   "metadata": {
    "collapsed": true
   },
   "outputs": [],
   "source": [
    "for i, infile in enumerate(files, first_file):    \n",
    "    if i==8: continue; # Missing file 8\n",
    "    print('File {} out of {}'.format(i, last_file))\n",
    "    df = process_one(infile)\n",
    "    # Save files as you go, so you don't always have to run over all files\n",
    "    df.to_pickle('data/{}/df_jets_{}_{}.pkl'.format(radius, radius, i))"
   ]
  },
  {
   "cell_type": "markdown",
   "metadata": {},
   "source": [
    "#### Concat all the files together"
   ]
  },
  {
   "cell_type": "code",
   "execution_count": null,
   "metadata": {
    "collapsed": true
   },
   "outputs": [],
   "source": [
    "dfs = []\n",
    "for i in range(first_file, last_file+1):\n",
    "    if i==8: continue; # Missing file 8    \n",
    "    dfs.append(pd.read_pickle('data/{}/df_jets_{}_{}.pkl'.format(radius, radius, i)))\n",
    "\n",
    "df_all = pd.concat(dfs)\n",
    "\n",
    "print('Dataframe shape:\\n\\t{}'.format(df_all.shape))\n",
    "print('Dataframe columns:\\n\\t{}'.format(df_all.columns))"
   ]
  },
  {
   "cell_type": "markdown",
   "metadata": {},
   "source": [
    "#### Remove all entries with gen_pt < 0 (where jet matching failed) "
   ]
  },
  {
   "cell_type": "code",
   "execution_count": null,
   "metadata": {
    "collapsed": true
   },
   "outputs": [],
   "source": [
    "df_all = df_all[df_all.gen_pt>=0]\n",
    "print('Number of events = {}'.format(len(df_all)))"
   ]
  },
  {
   "cell_type": "markdown",
   "metadata": {},
   "source": [
    "## Plots"
   ]
  },
  {
   "cell_type": "markdown",
   "metadata": {},
   "source": [
    "#### Check to make sure the variables look okay"
   ]
  },
  {
   "cell_type": "code",
   "execution_count": null,
   "metadata": {
    "collapsed": true
   },
   "outputs": [],
   "source": [
    "# Average jet image\n",
    "avg_image = np.sum(df_all.jet_images)/len(df_all)\n",
    "\n",
    "fig, ax = plt.subplots()\n",
    "cax = ax.matshow(avg_image.reshape((nx, ny)), norm=mpl.colors.LogNorm())\n",
    "cbar = fig.colorbar(cax, ticks=[0.0000001, 0.00001, 0.001, 0.1, 1, 10, 100])"
   ]
  },
  {
   "cell_type": "code",
   "execution_count": null,
   "metadata": {
    "collapsed": true
   },
   "outputs": [],
   "source": [
    "bins=np.linspace(0.8,1.2,20)\n",
    "plt.figure()\n",
    "plt.hist(df_all['gen_pt']/df_all['jet_pt'], label='gen/reco pT', alpha=0.5, bins=bins, normed=True)\n",
    "plt.hist(df_all['jet_jes'], label='JES', alpha=0.5, bins=bins, normed=True)\n",
    "plt.legend()\n",
    "plt.show()"
   ]
  },
  {
   "cell_type": "code",
   "execution_count": null,
   "metadata": {
    "collapsed": true
   },
   "outputs": [],
   "source": [
    "profile_data(df_all['jet_pt'], [df_all['jet_jes'], df_all['gen_pt']/df_all['jet_pt']], 30, 0, 3000, ['b','r'], plabels=['JES', 'gen/reco pT'], xlabel='Reco pT')"
   ]
  },
  {
   "cell_type": "code",
   "execution_count": null,
   "metadata": {
    "collapsed": true
   },
   "outputs": [],
   "source": [
    "profile_data(df_all['jet_eta'], [df_all['jet_jes'], df_all['gen_pt']/df_all['jet_pt']], 20, -5.0, 5.0, ['b','r'], plabels=['JES', 'gen/reco pT'], xlabel='Reco eta')"
   ]
  },
  {
   "cell_type": "code",
   "execution_count": null,
   "metadata": {
    "collapsed": true
   },
   "outputs": [],
   "source": [
    "profile_data(df_all['chf'], [df_all['jet_jes'], df_all['gen_pt']/df_all['jet_pt']], 20, 0, 1, ['b','r'], plabels=['JES', 'gen/reco pT'], xlabel='CHF')"
   ]
  },
  {
   "cell_type": "code",
   "execution_count": null,
   "metadata": {
    "collapsed": true
   },
   "outputs": [],
   "source": [
    "profile_data(df_all['nhf'], [df_all['jet_jes'], df_all['gen_pt']/df_all['jet_pt']], 20, 0, 1, ['b','r'], plabels=['JES', 'gen/reco pT'], xlabel='NHF')"
   ]
  },
  {
   "cell_type": "code",
   "execution_count": null,
   "metadata": {
    "collapsed": true
   },
   "outputs": [],
   "source": [
    "profile_data(df_all['phf'], [df_all['jet_jes'], df_all['gen_pt']/df_all['jet_pt']], 20, 0, 1, ['b','r'], plabels=['JES', 'gen/reco pT'], xlabel='PHF')"
   ]
  },
  {
   "cell_type": "code",
   "execution_count": null,
   "metadata": {
    "collapsed": true
   },
   "outputs": [],
   "source": [
    "profile_data(df_all['elf'], [df_all['jet_jes'], df_all['gen_pt']/df_all['jet_pt']], 20, 0, 1, ['b','r'], plabels=['JES', 'gen/reco pT'], xlabel='ELF')"
   ]
  },
  {
   "cell_type": "code",
   "execution_count": null,
   "metadata": {
    "collapsed": true
   },
   "outputs": [],
   "source": [
    "profile_data(df_all['muf'], [df_all['jet_jes'], df_all['gen_pt']/df_all['jet_pt']], 20, 0, 1, ['b','r'], plabels=['JES', 'gen/reco pT'], xlabel='MUF')"
   ]
  },
  {
   "cell_type": "code",
   "execution_count": null,
   "metadata": {
    "collapsed": true
   },
   "outputs": [],
   "source": [
    "plt.figure()\n",
    "bins = np.linspace(0.9, 1.1, 50)\n",
    "plt.hist(df_all['jet_jes'][(df_all['jet_pt']>150) & \n",
    "                             (df_all['jet_pt']<180) & \n",
    "                             (df_all['jet_eta']>-0.5) & \n",
    "                             (df_all['jet_eta']<0.5)], bins, label='150<pt<180, |eta|<0.5', alpha=0.5, normed=True)\n",
    "plt.hist(df_all['jet_jes'][(df_all['jet_pt']>150) & \n",
    "                             (df_all['jet_pt']<180) & \n",
    "                             (df_all['jet_eta']>-0.5) & \n",
    "                             (df_all['jet_eta']<0.5) &\n",
    "                             (df_all['chm'] > 10)], bins, label='150<pt<180, |eta|<0.5, chm > 10', alpha=0.5, normed=True)\n",
    "plt.hist(df_all['jet_jes'][(df_all['jet_pt']>150) & \n",
    "                             (df_all['jet_pt']<180) & \n",
    "                             (df_all['jet_eta']>-0.5) & \n",
    "                             (df_all['jet_eta']<0.5) &\n",
    "                             (df_all['chm'] < 10)], bins, label='150<pt<180, |eta|<0.5, chm < 10', alpha=0.5, normed=True)\n",
    "plt.xlabel('Jet Energy Scale')\n",
    "plt.legend(loc='upper left')\n",
    "plt.show()"
   ]
  },
  {
   "cell_type": "code",
   "execution_count": null,
   "metadata": {
    "collapsed": true
   },
   "outputs": [],
   "source": [
    "plt.figure()\n",
    "plt.hist2d(df_all['jet_pt'], df_all['chm'], bins=(100, 60), norm=mpl.colors.LogNorm())\n",
    "plt.colorbar()\n",
    "plt.xlabel('jet_pt')\n",
    "plt.ylabel('chm')\n",
    "plt.show()\n",
    "plt.figure()\n",
    "plt.hist2d(df_all['jet_eta'], df_all['chm'], bins=(100, 60), norm=mpl.colors.LogNorm())\n",
    "plt.colorbar()\n",
    "plt.xlabel('jet_eta')\n",
    "plt.ylabel('chm')\n",
    "plt.show()"
   ]
  },
  {
   "cell_type": "code",
   "execution_count": null,
   "metadata": {
    "collapsed": true
   },
   "outputs": [],
   "source": [
    "plt.figure()\n",
    "plt.hist2d(df_all['chm'], df_all['jet_jes'], bins=(100, 60), norm=mpl.colors.LogNorm())\n",
    "plt.colorbar()\n",
    "plt.ylabel('jet_jes')\n",
    "plt.xlabel('chm')\n",
    "plt.show()"
   ]
  },
  {
   "cell_type": "code",
   "execution_count": null,
   "metadata": {
    "collapsed": true
   },
   "outputs": [],
   "source": [
    "plt.figure()\n",
    "bins = np.linspace(0, 50, 25)\n",
    "plt.hist(df_all['chm'][(df_all['jet_pt']>150) & \n",
    "                             (df_all['jet_pt']<180) & \n",
    "                             (df_all['jet_eta']>-0.5) & \n",
    "                             (df_all['jet_eta']<0.5)], bins, label='150<pt<180, |eta|<0.5', alpha=0.5, normed=True)\n",
    "plt.hist(df_all['chm'][(df_all['jet_pt']>150) & \n",
    "                             (df_all['jet_pt']<180) & \n",
    "                             (df_all['jet_eta']>-0.5) & \n",
    "                             (df_all['jet_eta']<0.5) &\n",
    "                             (df_all['jet_jes'] > 1.0)], bins, label='150<pt<180, |eta|<0.5, jes > 1.1', alpha=0.5, normed=True)\n",
    "plt.hist(df_all['chm'][(df_all['jet_pt']>150) & \n",
    "                             (df_all['jet_pt']<180) & \n",
    "                             (df_all['jet_eta']>-0.5) & \n",
    "                             (df_all['jet_eta']<0.5) &\n",
    "                             (df_all['jet_jes'] < 1.0)], bins, label='150<pt<180, |eta|<0.5, jes < 0.9', alpha=0.5, normed=True)\n",
    "plt.xlabel('Charged Hadron Multiplicity')\n",
    "plt.legend(loc='lower right')\n",
    "plt.show()"
   ]
  },
  {
   "cell_type": "markdown",
   "metadata": {},
   "source": [
    "## Finish preprocessing"
   ]
  },
  {
   "cell_type": "markdown",
   "metadata": {},
   "source": [
    "#### Normalize variables"
   ]
  },
  {
   "cell_type": "code",
   "execution_count": null,
   "metadata": {
    "collapsed": true
   },
   "outputs": [],
   "source": [
    "from sklearn.preprocessing import StandardScaler\n",
    "scaler = StandardScaler()\n",
    "df_all['jet_pt'] = scaler.fit_transform(df_all['jet_pt'].values.reshape(-1,1))\n",
    "df_all['jet_eta'] /= 5.0\n",
    "df_all['jet_phi'] /= 3.14"
   ]
  },
  {
   "cell_type": "code",
   "execution_count": null,
   "metadata": {
    "collapsed": true
   },
   "outputs": [],
   "source": [
    "# Pickle scaler so can invert transformation later\n",
    "import pickle\n",
    "pickle.dump(scaler, open('data/{}/scaler_{}.pkl'.format(radius, radius),'wb'))"
   ]
  },
  {
   "cell_type": "markdown",
   "metadata": {},
   "source": [
    "#### Check normalized variables"
   ]
  },
  {
   "cell_type": "code",
   "execution_count": null,
   "metadata": {
    "collapsed": true
   },
   "outputs": [],
   "source": [
    "plt.figure(figsize=(18, 4))\n",
    "plt.subplot(1,3,1)\n",
    "plt.hist(df_all['jet_pt'])\n",
    "plt.yscale('log')\n",
    "plt.subplot(1,3,2)\n",
    "plt.hist(df_all['jet_eta'])\n",
    "plt.subplot(1,3,3)\n",
    "plt.hist(df_all['jet_phi'])\n",
    "plt.show()"
   ]
  },
  {
   "cell_type": "markdown",
   "metadata": {},
   "source": [
    "#### Split data into train/val/test sets and save files"
   ]
  },
  {
   "cell_type": "code",
   "execution_count": null,
   "metadata": {
    "collapsed": true
   },
   "outputs": [],
   "source": [
    "from sklearn.model_selection import train_test_split\n",
    "df_all_train, df_all_val = train_test_split(df_all, train_size=0.8, random_state = seed)\n",
    "# df_all_val, df_all_test = train_test_split(df_all_val, train_size=0.5, random_state=seed)\n",
    "\n",
    "print('Training events = {}, Validation events = {}, Testing events = {}'.format(df_all_train.shape[0], df_all_val.shape[0], 0))"
   ]
  },
  {
   "cell_type": "code",
   "execution_count": null,
   "metadata": {
    "collapsed": true
   },
   "outputs": [],
   "source": [
    "# Remove intermediary files due to disk space limitations\n",
    "if True:\n",
    "    for i in range(first_file, last_file+1):\n",
    "        if i==8: continue; ## Missing file 8\n",
    "        os.system('rm data/{}/df_jets_{}_{}.pkl'.format(radius, radius, i))"
   ]
  },
  {
   "cell_type": "code",
   "execution_count": null,
   "metadata": {
    "collapsed": true
   },
   "outputs": [],
   "source": [
    "# Save combined dfs to disk\n",
    "df_all_train.to_pickle('data/{}/df_jets_{}_train.pkl'.format(radius, radius))\n",
    "df_all_val.to_pickle('data/{}/df_jets_{}_val.pkl'.format(radius, radius))"
   ]
  }
 ],
 "metadata": {
  "anaconda-cloud": {},
  "kernelspec": {
   "display_name": "Python [conda env:mlenv0]",
   "language": "python",
   "name": "conda-env-mlenv0-py"
  },
  "language_info": {
   "codemirror_mode": {
    "name": "ipython",
    "version": 2
   },
   "file_extension": ".py",
   "mimetype": "text/x-python",
   "name": "python",
   "nbconvert_exporter": "python",
   "pygments_lexer": "ipython2",
   "version": "2.7.12"
  }
 },
 "nbformat": 4,
 "nbformat_minor": 1
}
