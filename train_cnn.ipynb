{
 "cells": [
  {
   "cell_type": "code",
   "execution_count": 1,
   "metadata": {},
   "outputs": [
    {
     "name": "stderr",
     "output_type": "stream",
     "text": [
      "Using TensorFlow backend.\n"
     ]
    }
   ],
   "source": [
    "import h5py\n",
    "import numpy as np\n",
    "seed = 7\n",
    "np.random.seed(seed)\n",
    "import pandas as pd\n",
    "from keras.layers import Input, Activation, Dense, Convolution2D, MaxPooling2D, Dropout, Flatten, merge\n",
    "from keras.models import Model"
   ]
  },
  {
   "cell_type": "code",
   "execution_count": 2,
   "metadata": {
    "collapsed": true
   },
   "outputs": [],
   "source": [
    "####################\n",
    "# Global Variables #\n",
    "####################\n",
    "nx = 25 # size of image in eta\n",
    "ny = 25 # size of image in phi\n",
    "xbins = np.linspace(-1.0,1.0,nx+1)\n",
    "ybins = np.linspace(-1.0,1.0,ny+1)"
   ]
  },
  {
   "cell_type": "code",
   "execution_count": 3,
   "metadata": {
    "scrolled": false
   },
   "outputs": [
    {
     "name": "stdout",
     "output_type": "stream",
     "text": [
      "__________________________________________________________________________________________________\n",
      "Layer (type)                    Output Shape         Param #     Connected to                     \n",
      "==================================================================================================\n",
      "input_1 (InputLayer)            (None, 25, 25, 1)    0                                            \n",
      "__________________________________________________________________________________________________\n",
      "conv2d_1 (Conv2D)               (None, 25, 25, 15)   1230        input_1[0][0]                    \n",
      "__________________________________________________________________________________________________\n",
      "activation_1 (Activation)       (None, 25, 25, 15)   0           conv2d_1[0][0]                   \n",
      "__________________________________________________________________________________________________\n",
      "max_pooling2d_1 (MaxPooling2D)  (None, 12, 12, 15)   0           activation_1[0][0]               \n",
      "__________________________________________________________________________________________________\n",
      "conv2d_2 (Conv2D)               (None, 12, 12, 10)   7360        max_pooling2d_1[0][0]            \n",
      "__________________________________________________________________________________________________\n",
      "activation_2 (Activation)       (None, 12, 12, 10)   0           conv2d_2[0][0]                   \n",
      "__________________________________________________________________________________________________\n",
      "max_pooling2d_2 (MaxPooling2D)  (None, 4, 4, 10)     0           activation_2[0][0]               \n",
      "__________________________________________________________________________________________________\n",
      "conv2d_3 (Conv2D)               (None, 4, 4, 8)      2008        max_pooling2d_2[0][0]            \n",
      "__________________________________________________________________________________________________\n",
      "activation_3 (Activation)       (None, 4, 4, 8)      0           conv2d_3[0][0]                   \n",
      "__________________________________________________________________________________________________\n",
      "conv2d_4 (Conv2D)               (None, 4, 4, 6)      1206        activation_3[0][0]               \n",
      "__________________________________________________________________________________________________\n",
      "activation_4 (Activation)       (None, 4, 4, 6)      0           conv2d_4[0][0]                   \n",
      "__________________________________________________________________________________________________\n",
      "max_pooling2d_3 (MaxPooling2D)  (None, 2, 2, 6)      0           activation_4[0][0]               \n",
      "__________________________________________________________________________________________________\n",
      "conv2d_5 (Conv2D)               (None, 2, 2, 4)      604         max_pooling2d_3[0][0]            \n",
      "__________________________________________________________________________________________________\n",
      "activation_5 (Activation)       (None, 2, 2, 4)      0           conv2d_5[0][0]                   \n",
      "__________________________________________________________________________________________________\n",
      "flatten_1 (Flatten)             (None, 16)           0           activation_5[0][0]               \n",
      "__________________________________________________________________________________________________\n",
      "jet_eta_input (InputLayer)      (None, 1)            0                                            \n",
      "__________________________________________________________________________________________________\n",
      "merge_1 (Merge)                 (None, 17)           0           flatten_1[0][0]                  \n",
      "                                                                 jet_eta_input[0][0]              \n",
      "__________________________________________________________________________________________________\n",
      "dense_1 (Dense)                 (None, 20)           360         merge_1[0][0]                    \n",
      "__________________________________________________________________________________________________\n",
      "dropout_1 (Dropout)             (None, 20)           0           dense_1[0][0]                    \n",
      "__________________________________________________________________________________________________\n",
      "jet_pt_input (InputLayer)       (None, 1)            0                                            \n",
      "__________________________________________________________________________________________________\n",
      "merge_2 (Merge)                 (None, 21)           0           dropout_1[0][0]                  \n",
      "                                                                 jet_pt_input[0][0]               \n",
      "__________________________________________________________________________________________________\n",
      "dense_2 (Dense)                 (None, 20)           440         merge_2[0][0]                    \n",
      "__________________________________________________________________________________________________\n",
      "dropout_2 (Dropout)             (None, 20)           0           dense_2[0][0]                    \n",
      "__________________________________________________________________________________________________\n",
      "main_output (Dense)             (None, 1)            21          dropout_2[0][0]                  \n",
      "==================================================================================================\n",
      "Total params: 13,229\n",
      "Trainable params: 13,229\n",
      "Non-trainable params: 0\n",
      "__________________________________________________________________________________________________\n"
     ]
    },
    {
     "name": "stderr",
     "output_type": "stream",
     "text": [
      "/usr/lib/python2.7/dist-packages/ipykernel_launcher.py:20: UserWarning: The `merge` function is deprecated and will be removed after 08/2017. Use instead layers from `keras.layers.merge`, e.g. `add`, `concatenate`, etc.\n",
      "/usr/local/lib/python2.7/site-packages/keras/legacy/layers.py:458: UserWarning: The `Merge` layer is deprecated and will be removed after 08/2017. Use instead layers from `keras.layers.merge`, e.g. `add`, `concatenate`, etc.\n",
      "  name=name)\n",
      "/usr/lib/python2.7/dist-packages/ipykernel_launcher.py:24: UserWarning: The `merge` function is deprecated and will be removed after 08/2017. Use instead layers from `keras.layers.merge`, e.g. `add`, `concatenate`, etc.\n"
     ]
    }
   ],
   "source": [
    "input_layer = Input(shape=(nx,ny,1))\n",
    "layer = Convolution2D(15, (9,9), padding='same')(input_layer)\n",
    "layer = Activation('tanh')(layer)\n",
    "layer = MaxPooling2D(pool_size=(2,2))(layer)\n",
    "layer = Convolution2D(10, (7,7), padding='same')(layer)\n",
    "layer = Activation('tanh')(layer)\n",
    "layer = MaxPooling2D(pool_size=(3,3))(layer)\n",
    "layer = Convolution2D(8, (5,5), padding='same')(layer)\n",
    "layer = Activation('tanh')(layer)\n",
    "layer = Convolution2D(6, (5,5), padding='same')(layer)\n",
    "layer = Activation('tanh')(layer)\n",
    "layer = MaxPooling2D(pool_size=(2,2))(layer)\n",
    "layer = Convolution2D(4, (5,5), padding='same')(layer)\n",
    "layer = Activation('tanh')(layer)\n",
    "\n",
    "layer = Flatten()(layer)\n",
    "\n",
    "# additional features input\n",
    "jet_eta_input = Input(shape=(1,), name='jet_eta_input')\n",
    "layer = merge([layer, jet_eta_input], mode='concat')\n",
    "layer = Dense(20, activation='sigmoid')(layer)\n",
    "layer = Dropout(0.08)(layer)\n",
    "jet_pt_input = Input(shape=(1,), name='jet_pt_input')\n",
    "layer = merge([layer, jet_pt_input], mode='concat')\n",
    "layer = Dense(20, activation='softplus')(layer)\n",
    "layer = Dropout(0.08)(layer)\n",
    "output_layer = Dense(1, activation='linear', name='main_output')(layer)\n",
    "model = Model(inputs=[input_layer,jet_pt_input,jet_eta_input], outputs=output_layer)\n",
    "\n",
    "model.compile(optimizer='adam', loss='mse', metrics=['accuracy','mse','msle'])\n",
    "model.summary()"
   ]
  },
  {
   "cell_type": "code",
   "execution_count": 4,
   "metadata": {
    "collapsed": true
   },
   "outputs": [],
   "source": [
    "df_dict_jets = pd.read_pickle('data/df_dict_jets.pkl')\n",
    "jet_images = np.load('data/jet_images.npy')"
   ]
  },
  {
   "cell_type": "code",
   "execution_count": 5,
   "metadata": {
    "collapsed": true
   },
   "outputs": [],
   "source": [
    "from sklearn.model_selection import train_test_split\n",
    "jet_images_train, jet_images_test, jet_pt_train, jet_pt_test, jet_eta_train, jet_eta_test, jet_jes_train, jet_jes_test = train_test_split(jet_images, df_dict_jets['jet_pt'], df_dict_jets['jet_eta'], df_dict_jets['jet_jes'], train_size=0.8, random_state = seed)"
   ]
  },
  {
   "cell_type": "code",
   "execution_count": 6,
   "metadata": {
    "collapsed": true
   },
   "outputs": [],
   "source": [
    "from keras.callbacks import EarlyStopping\n",
    "early_stopping = EarlyStopping(monitor='val_loss', patience=20)\n",
    "bs=256"
   ]
  },
  {
   "cell_type": "code",
   "execution_count": 7,
   "metadata": {},
   "outputs": [
    {
     "name": "stderr",
     "output_type": "stream",
     "text": [
      "/usr/lib/python2.7/dist-packages/ipykernel_launcher.py:3: UserWarning: The `nb_epoch` argument in `fit` has been renamed `epochs`.\n",
      "  This is separate from the ipykernel package so we can avoid doing imports until\n"
     ]
    },
    {
     "name": "stdout",
     "output_type": "stream",
     "text": [
      "Train on 42393 samples, validate on 10599 samples\n",
      "Epoch 1/400\n",
      "42393/42393 [==============================] - 4s 97us/step - loss: 0.1155 - acc: 0.0000e+00 - mean_squared_error: 0.1155 - mean_squared_logarithmic_error: 0.0372 - val_loss: 0.0014 - val_acc: 0.0000e+00 - val_mean_squared_error: 0.0014 - val_mean_squared_logarithmic_error: 3.4626e-04\n",
      "Epoch 2/400\n",
      "42393/42393 [==============================] - 3s 74us/step - loss: 0.0457 - acc: 0.0000e+00 - mean_squared_error: 0.0457 - mean_squared_logarithmic_error: 0.0127 - val_loss: 0.0011 - val_acc: 0.0000e+00 - val_mean_squared_error: 0.0011 - val_mean_squared_logarithmic_error: 2.6385e-04\n",
      "Epoch 3/400\n",
      "42393/42393 [==============================] - 3s 74us/step - loss: 0.0319 - acc: 0.0000e+00 - mean_squared_error: 0.0319 - mean_squared_logarithmic_error: 0.0087 - val_loss: 0.0011 - val_acc: 0.0000e+00 - val_mean_squared_error: 0.0011 - val_mean_squared_logarithmic_error: 2.6492e-04\n",
      "Epoch 4/400\n",
      "42393/42393 [==============================] - 3s 74us/step - loss: 0.0236 - acc: 0.0000e+00 - mean_squared_error: 0.0236 - mean_squared_logarithmic_error: 0.0063 - val_loss: 0.0011 - val_acc: 0.0000e+00 - val_mean_squared_error: 0.0011 - val_mean_squared_logarithmic_error: 2.6636e-04\n",
      "Epoch 5/400\n",
      "42393/42393 [==============================] - 3s 74us/step - loss: 0.0186 - acc: 0.0000e+00 - mean_squared_error: 0.0186 - mean_squared_logarithmic_error: 0.0049 - val_loss: 9.9852e-04 - val_acc: 0.0000e+00 - val_mean_squared_error: 9.9852e-04 - val_mean_squared_logarithmic_error: 2.4854e-04\n",
      "Epoch 6/400\n",
      "42393/42393 [==============================] - 3s 74us/step - loss: 0.0151 - acc: 0.0000e+00 - mean_squared_error: 0.0151 - mean_squared_logarithmic_error: 0.0039 - val_loss: 0.0010 - val_acc: 0.0000e+00 - val_mean_squared_error: 0.0010 - val_mean_squared_logarithmic_error: 2.5689e-04\n",
      "Epoch 7/400\n",
      "42393/42393 [==============================] - 3s 74us/step - loss: 0.0126 - acc: 0.0000e+00 - mean_squared_error: 0.0126 - mean_squared_logarithmic_error: 0.0033 - val_loss: 9.9943e-04 - val_acc: 0.0000e+00 - val_mean_squared_error: 9.9943e-04 - val_mean_squared_logarithmic_error: 2.4861e-04\n",
      "Epoch 8/400\n",
      "42393/42393 [==============================] - 3s 74us/step - loss: 0.0108 - acc: 0.0000e+00 - mean_squared_error: 0.0108 - mean_squared_logarithmic_error: 0.0028 - val_loss: 0.0010 - val_acc: 0.0000e+00 - val_mean_squared_error: 0.0010 - val_mean_squared_logarithmic_error: 2.5846e-04\n",
      "Epoch 9/400\n",
      "42393/42393 [==============================] - 3s 74us/step - loss: 0.0097 - acc: 0.0000e+00 - mean_squared_error: 0.0097 - mean_squared_logarithmic_error: 0.0025 - val_loss: 0.0010 - val_acc: 0.0000e+00 - val_mean_squared_error: 0.0010 - val_mean_squared_logarithmic_error: 2.4945e-04\n",
      "Epoch 10/400\n",
      "42393/42393 [==============================] - 3s 74us/step - loss: 0.0087 - acc: 0.0000e+00 - mean_squared_error: 0.0087 - mean_squared_logarithmic_error: 0.0022 - val_loss: 0.0010 - val_acc: 0.0000e+00 - val_mean_squared_error: 0.0010 - val_mean_squared_logarithmic_error: 2.5004e-04\n",
      "Epoch 11/400\n",
      "42393/42393 [==============================] - 3s 74us/step - loss: 0.0080 - acc: 0.0000e+00 - mean_squared_error: 0.0080 - mean_squared_logarithmic_error: 0.0020 - val_loss: 9.7272e-04 - val_acc: 0.0000e+00 - val_mean_squared_error: 9.7272e-04 - val_mean_squared_logarithmic_error: 2.4215e-04\n",
      "Epoch 12/400\n",
      "42393/42393 [==============================] - 3s 74us/step - loss: 0.0075 - acc: 0.0000e+00 - mean_squared_error: 0.0075 - mean_squared_logarithmic_error: 0.0019 - val_loss: 9.7697e-04 - val_acc: 0.0000e+00 - val_mean_squared_error: 9.7697e-04 - val_mean_squared_logarithmic_error: 2.4323e-04\n",
      "Epoch 13/400\n",
      "42393/42393 [==============================] - 3s 73us/step - loss: 0.0068 - acc: 0.0000e+00 - mean_squared_error: 0.0068 - mean_squared_logarithmic_error: 0.0017 - val_loss: 0.0011 - val_acc: 0.0000e+00 - val_mean_squared_error: 0.0011 - val_mean_squared_logarithmic_error: 2.6854e-04\n",
      "Epoch 14/400\n",
      "42393/42393 [==============================] - 3s 74us/step - loss: 0.0063 - acc: 0.0000e+00 - mean_squared_error: 0.0063 - mean_squared_logarithmic_error: 0.0016 - val_loss: 9.7565e-04 - val_acc: 0.0000e+00 - val_mean_squared_error: 9.7565e-04 - val_mean_squared_logarithmic_error: 2.4284e-04\n",
      "Epoch 15/400\n",
      "42393/42393 [==============================] - 3s 74us/step - loss: 0.0058 - acc: 0.0000e+00 - mean_squared_error: 0.0058 - mean_squared_logarithmic_error: 0.0015 - val_loss: 9.5706e-04 - val_acc: 0.0000e+00 - val_mean_squared_error: 9.5706e-04 - val_mean_squared_logarithmic_error: 2.3842e-04\n",
      "Epoch 16/400\n",
      "42393/42393 [==============================] - 3s 74us/step - loss: 0.0054 - acc: 0.0000e+00 - mean_squared_error: 0.0054 - mean_squared_logarithmic_error: 0.0014 - val_loss: 9.6549e-04 - val_acc: 0.0000e+00 - val_mean_squared_error: 9.6549e-04 - val_mean_squared_logarithmic_error: 2.4045e-04\n",
      "Epoch 17/400\n",
      "42393/42393 [==============================] - 3s 74us/step - loss: 0.0050 - acc: 0.0000e+00 - mean_squared_error: 0.0050 - mean_squared_logarithmic_error: 0.0013 - val_loss: 0.0010 - val_acc: 0.0000e+00 - val_mean_squared_error: 0.0010 - val_mean_squared_logarithmic_error: 2.5372e-04\n",
      "Epoch 18/400\n",
      "42393/42393 [==============================] - 3s 74us/step - loss: 0.0047 - acc: 0.0000e+00 - mean_squared_error: 0.0047 - mean_squared_logarithmic_error: 0.0012 - val_loss: 9.6540e-04 - val_acc: 0.0000e+00 - val_mean_squared_error: 9.6540e-04 - val_mean_squared_logarithmic_error: 2.4040e-04\n",
      "Epoch 19/400\n",
      "42393/42393 [==============================] - 3s 74us/step - loss: 0.0043 - acc: 0.0000e+00 - mean_squared_error: 0.0043 - mean_squared_logarithmic_error: 0.0011 - val_loss: 9.8191e-04 - val_acc: 0.0000e+00 - val_mean_squared_error: 9.8191e-04 - val_mean_squared_logarithmic_error: 2.4433e-04\n",
      "Epoch 20/400\n",
      "42393/42393 [==============================] - 3s 74us/step - loss: 0.0039 - acc: 0.0000e+00 - mean_squared_error: 0.0039 - mean_squared_logarithmic_error: 9.7979e-04 - val_loss: 0.0010 - val_acc: 0.0000e+00 - val_mean_squared_error: 0.0010 - val_mean_squared_logarithmic_error: 2.5112e-04\n",
      "Epoch 21/400\n",
      "42393/42393 [==============================] - 3s 74us/step - loss: 0.0036 - acc: 0.0000e+00 - mean_squared_error: 0.0036 - mean_squared_logarithmic_error: 9.0897e-04 - val_loss: 9.4271e-04 - val_acc: 0.0000e+00 - val_mean_squared_error: 9.4271e-04 - val_mean_squared_logarithmic_error: 2.3517e-04\n",
      "Epoch 22/400\n",
      "42393/42393 [==============================] - 3s 74us/step - loss: 0.0033 - acc: 0.0000e+00 - mean_squared_error: 0.0033 - mean_squared_logarithmic_error: 8.2472e-04 - val_loss: 0.0010 - val_acc: 0.0000e+00 - val_mean_squared_error: 0.0010 - val_mean_squared_logarithmic_error: 2.4952e-04\n",
      "Epoch 23/400\n",
      "42393/42393 [==============================] - 3s 74us/step - loss: 0.0030 - acc: 0.0000e+00 - mean_squared_error: 0.0030 - mean_squared_logarithmic_error: 7.5338e-04 - val_loss: 9.7921e-04 - val_acc: 0.0000e+00 - val_mean_squared_error: 9.7921e-04 - val_mean_squared_logarithmic_error: 2.4368e-04\n",
      "Epoch 24/400\n",
      "42393/42393 [==============================] - 3s 74us/step - loss: 0.0027 - acc: 0.0000e+00 - mean_squared_error: 0.0027 - mean_squared_logarithmic_error: 6.8846e-04 - val_loss: 9.5000e-04 - val_acc: 0.0000e+00 - val_mean_squared_error: 9.5000e-04 - val_mean_squared_logarithmic_error: 2.3680e-04\n",
      "Epoch 25/400\n",
      "42393/42393 [==============================] - 3s 74us/step - loss: 0.0025 - acc: 0.0000e+00 - mean_squared_error: 0.0025 - mean_squared_logarithmic_error: 6.3114e-04 - val_loss: 9.5316e-04 - val_acc: 0.0000e+00 - val_mean_squared_error: 9.5316e-04 - val_mean_squared_logarithmic_error: 2.3757e-04\n",
      "Epoch 26/400\n",
      "42393/42393 [==============================] - 3s 74us/step - loss: 0.0023 - acc: 0.0000e+00 - mean_squared_error: 0.0023 - mean_squared_logarithmic_error: 5.7527e-04 - val_loss: 9.7021e-04 - val_acc: 0.0000e+00 - val_mean_squared_error: 9.7021e-04 - val_mean_squared_logarithmic_error: 2.4155e-04\n",
      "Epoch 27/400\n",
      "42393/42393 [==============================] - 3s 74us/step - loss: 0.0021 - acc: 0.0000e+00 - mean_squared_error: 0.0021 - mean_squared_logarithmic_error: 5.2033e-04 - val_loss: 9.4699e-04 - val_acc: 0.0000e+00 - val_mean_squared_error: 9.4699e-04 - val_mean_squared_logarithmic_error: 2.3613e-04\n"
     ]
    },
    {
     "name": "stdout",
     "output_type": "stream",
     "text": [
      "Epoch 28/400\n",
      "42393/42393 [==============================] - 3s 74us/step - loss: 0.0019 - acc: 0.0000e+00 - mean_squared_error: 0.0019 - mean_squared_logarithmic_error: 4.8329e-04 - val_loss: 9.3961e-04 - val_acc: 0.0000e+00 - val_mean_squared_error: 9.3961e-04 - val_mean_squared_logarithmic_error: 2.3457e-04\n",
      "Epoch 29/400\n",
      "42393/42393 [==============================] - 3s 74us/step - loss: 0.0018 - acc: 0.0000e+00 - mean_squared_error: 0.0018 - mean_squared_logarithmic_error: 4.3890e-04 - val_loss: 9.3992e-04 - val_acc: 0.0000e+00 - val_mean_squared_error: 9.3992e-04 - val_mean_squared_logarithmic_error: 2.3464e-04\n",
      "Epoch 30/400\n",
      "42393/42393 [==============================] - 3s 74us/step - loss: 0.0016 - acc: 0.0000e+00 - mean_squared_error: 0.0016 - mean_squared_logarithmic_error: 4.0760e-04 - val_loss: 9.4781e-04 - val_acc: 0.0000e+00 - val_mean_squared_error: 9.4781e-04 - val_mean_squared_logarithmic_error: 2.3635e-04\n",
      "Epoch 31/400\n",
      "42393/42393 [==============================] - 3s 74us/step - loss: 0.0015 - acc: 0.0000e+00 - mean_squared_error: 0.0015 - mean_squared_logarithmic_error: 3.7593e-04 - val_loss: 9.4318e-04 - val_acc: 0.0000e+00 - val_mean_squared_error: 9.4318e-04 - val_mean_squared_logarithmic_error: 2.3579e-04\n",
      "Epoch 32/400\n",
      "42393/42393 [==============================] - 3s 74us/step - loss: 0.0014 - acc: 0.0000e+00 - mean_squared_error: 0.0014 - mean_squared_logarithmic_error: 3.4778e-04 - val_loss: 9.4826e-04 - val_acc: 0.0000e+00 - val_mean_squared_error: 9.4826e-04 - val_mean_squared_logarithmic_error: 2.3645e-04\n",
      "Epoch 33/400\n",
      "42393/42393 [==============================] - 3s 74us/step - loss: 0.0013 - acc: 0.0000e+00 - mean_squared_error: 0.0013 - mean_squared_logarithmic_error: 3.2719e-04 - val_loss: 9.9103e-04 - val_acc: 0.0000e+00 - val_mean_squared_error: 9.9103e-04 - val_mean_squared_logarithmic_error: 2.4655e-04\n",
      "Epoch 34/400\n",
      "42393/42393 [==============================] - 3s 74us/step - loss: 0.0013 - acc: 0.0000e+00 - mean_squared_error: 0.0013 - mean_squared_logarithmic_error: 3.1127e-04 - val_loss: 9.4033e-04 - val_acc: 0.0000e+00 - val_mean_squared_error: 9.4033e-04 - val_mean_squared_logarithmic_error: 2.3487e-04\n",
      "Epoch 35/400\n",
      "42393/42393 [==============================] - 3s 74us/step - loss: 0.0012 - acc: 0.0000e+00 - mean_squared_error: 0.0012 - mean_squared_logarithmic_error: 2.9576e-04 - val_loss: 9.4655e-04 - val_acc: 0.0000e+00 - val_mean_squared_error: 9.4655e-04 - val_mean_squared_logarithmic_error: 2.3614e-04\n",
      "Epoch 36/400\n",
      "42393/42393 [==============================] - 3s 74us/step - loss: 0.0011 - acc: 0.0000e+00 - mean_squared_error: 0.0011 - mean_squared_logarithmic_error: 2.8162e-04 - val_loss: 9.4210e-04 - val_acc: 0.0000e+00 - val_mean_squared_error: 9.4210e-04 - val_mean_squared_logarithmic_error: 2.3521e-04\n",
      "Epoch 37/400\n",
      "42393/42393 [==============================] - 3s 74us/step - loss: 0.0011 - acc: 0.0000e+00 - mean_squared_error: 0.0011 - mean_squared_logarithmic_error: 2.7340e-04 - val_loss: 9.4121e-04 - val_acc: 0.0000e+00 - val_mean_squared_error: 9.4121e-04 - val_mean_squared_logarithmic_error: 2.3516e-04\n",
      "Epoch 38/400\n",
      "42393/42393 [==============================] - 3s 74us/step - loss: 0.0011 - acc: 0.0000e+00 - mean_squared_error: 0.0011 - mean_squared_logarithmic_error: 2.6651e-04 - val_loss: 9.4707e-04 - val_acc: 0.0000e+00 - val_mean_squared_error: 9.4707e-04 - val_mean_squared_logarithmic_error: 2.3629e-04\n",
      "Epoch 39/400\n",
      "42393/42393 [==============================] - 3s 74us/step - loss: 0.0010 - acc: 0.0000e+00 - mean_squared_error: 0.0010 - mean_squared_logarithmic_error: 2.6034e-04 - val_loss: 9.4933e-04 - val_acc: 0.0000e+00 - val_mean_squared_error: 9.4933e-04 - val_mean_squared_logarithmic_error: 2.3681e-04\n",
      "Epoch 40/400\n",
      "42393/42393 [==============================] - 3s 74us/step - loss: 0.0010 - acc: 0.0000e+00 - mean_squared_error: 0.0010 - mean_squared_logarithmic_error: 2.5564e-04 - val_loss: 9.4362e-04 - val_acc: 0.0000e+00 - val_mean_squared_error: 9.4362e-04 - val_mean_squared_logarithmic_error: 2.3587e-04\n",
      "Epoch 41/400\n",
      "42393/42393 [==============================] - 3s 74us/step - loss: 0.0010 - acc: 0.0000e+00 - mean_squared_error: 0.0010 - mean_squared_logarithmic_error: 2.5222e-04 - val_loss: 9.4289e-04 - val_acc: 0.0000e+00 - val_mean_squared_error: 9.4289e-04 - val_mean_squared_logarithmic_error: 2.3564e-04\n",
      "Epoch 42/400\n",
      "42393/42393 [==============================] - 3s 74us/step - loss: 0.0010 - acc: 0.0000e+00 - mean_squared_error: 0.0010 - mean_squared_logarithmic_error: 2.5003e-04 - val_loss: 9.4539e-04 - val_acc: 0.0000e+00 - val_mean_squared_error: 9.4539e-04 - val_mean_squared_logarithmic_error: 2.3597e-04\n",
      "Epoch 43/400\n",
      "42393/42393 [==============================] - 3s 74us/step - loss: 9.9115e-04 - acc: 0.0000e+00 - mean_squared_error: 9.9115e-04 - mean_squared_logarithmic_error: 2.4705e-04 - val_loss: 9.4287e-04 - val_acc: 0.0000e+00 - val_mean_squared_error: 9.4287e-04 - val_mean_squared_logarithmic_error: 2.3547e-04\n",
      "Epoch 44/400\n",
      "42393/42393 [==============================] - 3s 74us/step - loss: 9.8703e-04 - acc: 0.0000e+00 - mean_squared_error: 9.8703e-04 - mean_squared_logarithmic_error: 2.4607e-04 - val_loss: 9.4812e-04 - val_acc: 0.0000e+00 - val_mean_squared_error: 9.4812e-04 - val_mean_squared_logarithmic_error: 2.3714e-04\n",
      "Epoch 45/400\n",
      "42393/42393 [==============================] - 3s 74us/step - loss: 9.7626e-04 - acc: 0.0000e+00 - mean_squared_error: 9.7626e-04 - mean_squared_logarithmic_error: 2.4339e-04 - val_loss: 9.4146e-04 - val_acc: 0.0000e+00 - val_mean_squared_error: 9.4146e-04 - val_mean_squared_logarithmic_error: 2.3521e-04\n",
      "Epoch 46/400\n",
      "42393/42393 [==============================] - 3s 74us/step - loss: 9.7821e-04 - acc: 0.0000e+00 - mean_squared_error: 9.7821e-04 - mean_squared_logarithmic_error: 2.4390e-04 - val_loss: 9.5126e-04 - val_acc: 0.0000e+00 - val_mean_squared_error: 9.5126e-04 - val_mean_squared_logarithmic_error: 2.3800e-04\n",
      "Epoch 47/400\n",
      "42393/42393 [==============================] - 3s 74us/step - loss: 9.6813e-04 - acc: 0.0000e+00 - mean_squared_error: 9.6813e-04 - mean_squared_logarithmic_error: 2.4138e-04 - val_loss: 9.4094e-04 - val_acc: 0.0000e+00 - val_mean_squared_error: 9.4094e-04 - val_mean_squared_logarithmic_error: 2.3531e-04\n",
      "Epoch 48/400\n",
      "42393/42393 [==============================] - 3s 74us/step - loss: 9.6304e-04 - acc: 0.0000e+00 - mean_squared_error: 9.6304e-04 - mean_squared_logarithmic_error: 2.4011e-04 - val_loss: 9.7055e-04 - val_acc: 0.0000e+00 - val_mean_squared_error: 9.7055e-04 - val_mean_squared_logarithmic_error: 2.4300e-04\n"
     ]
    }
   ],
   "source": [
    "history = model.fit([jet_images_train, jet_pt_train, jet_eta_train],  jet_jes_train,\n",
    "                    validation_data=([jet_images_test, jet_pt_test, jet_eta_test], jet_jes_test),\n",
    "                    nb_epoch=400, batch_size=bs, verbose=1, callbacks=[early_stopping])"
   ]
  },
  {
   "cell_type": "code",
   "execution_count": 8,
   "metadata": {
    "collapsed": true
   },
   "outputs": [],
   "source": [
    "model.save('models/DeepJEC.h5')"
   ]
  },
  {
   "cell_type": "code",
   "execution_count": 9,
   "metadata": {
    "collapsed": true
   },
   "outputs": [],
   "source": [
    "hf = h5py.File('data/train_test_ak5.h5', 'w')\n",
    "hf.create_dataset('jet_images_train', data=jet_images_train)\n",
    "hf.create_dataset('jet_images_test',  data=jet_images_test)\n",
    "hf.create_dataset('jet_pt_train',     data=jet_pt_train)\n",
    "hf.create_dataset('jet_pt_test',      data=jet_pt_test)\n",
    "hf.create_dataset('jet_eta_train',    data=jet_eta_train)\n",
    "hf.create_dataset('jet_eta_test',     data=jet_eta_test)\n",
    "hf.create_dataset('jet_jes_train',    data=jet_jes_train)\n",
    "hf.create_dataset('jet_jes_test',     data=jet_jes_test)\n",
    "hf.close()"
   ]
  },
  {
   "cell_type": "code",
   "execution_count": 10,
   "metadata": {},
   "outputs": [
    {
     "data": {
      "image/png": "[encoded data removed]",
      "text/plain": [
       "<matplotlib.figure.Figure at 0x7f28601eab50>"
      ]
     },
     "metadata": {},
     "output_type": "display_data"
    }
   ],
   "source": [
    "import matplotlib as mpl\n",
    "import matplotlib.pyplot as plt\n",
    "%matplotlib inline\n",
    "\n",
    "plt.figure(figsize=(8,6))\n",
    "\n",
    "loss = np.asarray(history.history['loss'])\n",
    "val_loss = np.asarray(history.history['val_loss'])\n",
    "plt.plot(loss, label='train')\n",
    "plt.plot(val_loss, label='test')\n",
    "plt.legend()\n",
    "plt.xlabel('epoch')\n",
    "plt.ylabel('Loss (MSE)')\n",
    "plt.yscale('log')\n",
    "\n",
    "plt.savefig('plots/train_val_loss.pdf')"
   ]
  },
  {
   "cell_type": "code",
   "execution_count": null,
   "metadata": {
    "collapsed": true
   },
   "outputs": [],
   "source": []
  }
 ],
 "metadata": {
  "kernelspec": {
   "display_name": "Python 2",
   "language": "python",
   "name": "python2"
  },
  "language_info": {
   "codemirror_mode": {
    "name": "ipython",
    "version": 2
   },
   "file_extension": ".py",
   "mimetype": "text/x-python",
   "name": "python",
   "nbconvert_exporter": "python",
   "pygments_lexer": "ipython2",
   "version": "2.7.12"
  }
 },
 "nbformat": 4,
 "nbformat_minor": 2
}
