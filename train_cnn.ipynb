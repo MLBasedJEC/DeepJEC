{
 "cells": [
  {
   "cell_type": "code",
   "execution_count": 7,
   "metadata": {},
   "outputs": [],
   "source": [
    "import numpy as np\n",
    "seed = 7\n",
    "np.random.seed(seed)\n",
    "import pandas as pd\n",
    "from keras.layers import Input, Activation, Dense, Convolution2D, MaxPooling2D, Dropout, Flatten, merge\n",
    "from keras.models import Model"
   ]
  },
  {
   "cell_type": "code",
   "execution_count": 8,
   "metadata": {
    "collapsed": true
   },
   "outputs": [],
   "source": [
    "####################\n",
    "# Global Variables #\n",
    "####################\n",
    "nx = 25 # size of image in eta\n",
    "ny = 25 # size of image in phi\n",
    "xbins = np.linspace(-1.0,1.0,nx+1)\n",
    "ybins = np.linspace(-1.0,1.0,ny+1)"
   ]
  },
  {
   "cell_type": "code",
   "execution_count": 9,
   "metadata": {},
   "outputs": [
    {
     "name": "stderr",
     "output_type": "stream",
     "text": [
      "/Users/rohan/anaconda/lib/python2.7/site-packages/ipykernel_launcher.py:20: UserWarning: The `merge` function is deprecated and will be removed after 08/2017. Use instead layers from `keras.layers.merge`, e.g. `add`, `concatenate`, etc.\n",
      "/Users/rohan/anaconda/lib/python2.7/site-packages/ipykernel_launcher.py:24: UserWarning: The `merge` function is deprecated and will be removed after 08/2017. Use instead layers from `keras.layers.merge`, e.g. `add`, `concatenate`, etc.\n"
     ]
    },
    {
     "name": "stdout",
     "output_type": "stream",
     "text": [
      "____________________________________________________________________________________________________\n",
      "Layer (type)                     Output Shape          Param #     Connected to                     \n",
      "====================================================================================================\n",
      "input_2 (InputLayer)             (None, 25, 25, 1)     0                                            \n",
      "____________________________________________________________________________________________________\n",
      "conv2d_6 (Conv2D)                (None, 25, 25, 15)    1230        input_2[0][0]                    \n",
      "____________________________________________________________________________________________________\n",
      "activation_6 (Activation)        (None, 25, 25, 15)    0           conv2d_6[0][0]                   \n",
      "____________________________________________________________________________________________________\n",
      "max_pooling2d_4 (MaxPooling2D)   (None, 12, 12, 15)    0           activation_6[0][0]               \n",
      "____________________________________________________________________________________________________\n",
      "conv2d_7 (Conv2D)                (None, 12, 12, 10)    7360        max_pooling2d_4[0][0]            \n",
      "____________________________________________________________________________________________________\n",
      "activation_7 (Activation)        (None, 12, 12, 10)    0           conv2d_7[0][0]                   \n",
      "____________________________________________________________________________________________________\n",
      "max_pooling2d_5 (MaxPooling2D)   (None, 4, 4, 10)      0           activation_7[0][0]               \n",
      "____________________________________________________________________________________________________\n",
      "conv2d_8 (Conv2D)                (None, 4, 4, 8)       2008        max_pooling2d_5[0][0]            \n",
      "____________________________________________________________________________________________________\n",
      "activation_8 (Activation)        (None, 4, 4, 8)       0           conv2d_8[0][0]                   \n",
      "____________________________________________________________________________________________________\n",
      "conv2d_9 (Conv2D)                (None, 4, 4, 6)       1206        activation_8[0][0]               \n",
      "____________________________________________________________________________________________________\n",
      "activation_9 (Activation)        (None, 4, 4, 6)       0           conv2d_9[0][0]                   \n",
      "____________________________________________________________________________________________________\n",
      "max_pooling2d_6 (MaxPooling2D)   (None, 2, 2, 6)       0           activation_9[0][0]               \n",
      "____________________________________________________________________________________________________\n",
      "conv2d_10 (Conv2D)               (None, 2, 2, 4)       604         max_pooling2d_6[0][0]            \n",
      "____________________________________________________________________________________________________\n",
      "activation_10 (Activation)       (None, 2, 2, 4)       0           conv2d_10[0][0]                  \n",
      "____________________________________________________________________________________________________\n",
      "flatten_2 (Flatten)              (None, 16)            0           activation_10[0][0]              \n",
      "____________________________________________________________________________________________________\n",
      "jet_eta_ak7_input (InputLayer)   (None, 1)             0                                            \n",
      "____________________________________________________________________________________________________\n",
      "merge_3 (Merge)                  (None, 17)            0           flatten_2[0][0]                  \n",
      "                                                                   jet_eta_ak7_input[0][0]          \n",
      "____________________________________________________________________________________________________\n",
      "dense_3 (Dense)                  (None, 20)            360         merge_3[0][0]                    \n",
      "____________________________________________________________________________________________________\n",
      "dropout_3 (Dropout)              (None, 20)            0           dense_3[0][0]                    \n",
      "____________________________________________________________________________________________________\n",
      "jet_pt_ak7_input (InputLayer)    (None, 1)             0                                            \n",
      "____________________________________________________________________________________________________\n",
      "merge_4 (Merge)                  (None, 21)            0           dropout_3[0][0]                  \n",
      "                                                                   jet_pt_ak7_input[0][0]           \n",
      "____________________________________________________________________________________________________\n",
      "dense_4 (Dense)                  (None, 20)            440         merge_4[0][0]                    \n",
      "____________________________________________________________________________________________________\n",
      "dropout_4 (Dropout)              (None, 20)            0           dense_4[0][0]                    \n",
      "____________________________________________________________________________________________________\n",
      "main_output (Dense)              (None, 1)             21          dropout_4[0][0]                  \n",
      "====================================================================================================\n",
      "Total params: 13,229\n",
      "Trainable params: 13,229\n",
      "Non-trainable params: 0\n",
      "____________________________________________________________________________________________________\n"
     ]
    }
   ],
   "source": [
    "input_layer = Input(shape=(nx,ny,1))\n",
    "layer = Convolution2D(15, (9,9), padding='same')(input_layer)\n",
    "layer = Activation('tanh')(layer)\n",
    "layer = MaxPooling2D(pool_size=(2,2))(layer)\n",
    "layer = Convolution2D(10, (7,7), padding='same')(layer)\n",
    "layer = Activation('tanh')(layer)\n",
    "layer = MaxPooling2D(pool_size=(3,3))(layer)\n",
    "layer = Convolution2D(8, (5,5), padding='same')(layer)\n",
    "layer = Activation('tanh')(layer)\n",
    "layer = Convolution2D(6, (5,5), padding='same')(layer)\n",
    "layer = Activation('tanh')(layer)\n",
    "layer = MaxPooling2D(pool_size=(2,2))(layer)\n",
    "layer = Convolution2D(4, (5,5), padding='same')(layer)\n",
    "layer = Activation('tanh')(layer)\n",
    "\n",
    "layer = Flatten()(layer)\n",
    "\n",
    "# additional features input\n",
    "jet_eta_ak7_input = Input(shape=(1,), name='jet_eta_ak7_input')\n",
    "layer = merge([layer, jet_eta_ak7_input], mode='concat')\n",
    "layer = Dense(20, activation='sigmoid')(layer)\n",
    "layer = Dropout(0.08)(layer)\n",
    "jet_pt_ak7_input = Input(shape=(1,), name='jet_pt_ak7_input')\n",
    "layer = merge([layer, jet_pt_ak7_input], mode='concat')\n",
    "layer = Dense(20, activation='softplus')(layer)\n",
    "layer = Dropout(0.08)(layer)\n",
    "output_layer = Dense(1, activation='linear', name='main_output')(layer)\n",
    "model = Model(inputs=[input_layer,jet_pt_ak7_input,jet_eta_ak7_input], outputs=output_layer)\n",
    "\n",
    "#model.compile(optimizer='adam', loss='mse', metrics=['accuracy','precision','mse','msle'])\n",
    "model.compile(optimizer='adam', loss='mse', metrics=['accuracy','mse','msle'])\n",
    "model.summary()"
   ]
  },
  {
   "cell_type": "code",
   "execution_count": 10,
   "metadata": {
    "collapsed": true
   },
   "outputs": [],
   "source": [
    "df_dict_jets = pd.read_pickle('data/df_dict_jets.pkl')\n",
    "jet_images = np.load('data/jet_images.npy')"
   ]
  },
  {
   "cell_type": "code",
   "execution_count": 11,
   "metadata": {
    "collapsed": true
   },
   "outputs": [],
   "source": [
    "from sklearn.model_selection import StratifiedKFold\n",
    "from keras.callbacks import EarlyStopping\n",
    "early_stopping = EarlyStopping(monitor='val_loss', patience=20)\n",
    "kfold = StratifiedKFold(n_splits=2, shuffle=True,  random_state=seed)\n",
    "bs=256"
   ]
  },
  {
   "cell_type": "code",
   "execution_count": 18,
   "metadata": {},
   "outputs": [
    {
     "name": "stderr",
     "output_type": "stream",
     "text": [
      "/Users/rohan/anaconda/lib/python2.7/site-packages/ipykernel_launcher.py:4: UserWarning: The `nb_epoch` argument in `fit` has been renamed `epochs`.\n",
      "  after removing the cwd from sys.path.\n"
     ]
    },
    {
     "name": "stdout",
     "output_type": "stream",
     "text": [
      "Train on 52992 samples, validate on 52992 samples\n",
      "Epoch 1/4\n",
      "52992/52992 [==============================] - 165s - loss: 0.0186 - acc: 0.0000e+00 - mean_squared_error: 0.0186 - mean_squared_logarithmic_error: 0.0049 - val_loss: 0.0010 - val_acc: 0.0000e+00 - val_mean_squared_error: 0.0010 - val_mean_squared_logarithmic_error: 2.5207e-04\n",
      "Epoch 2/4\n",
      "52992/52992 [==============================] - 170s - loss: 0.0143 - acc: 0.0000e+00 - mean_squared_error: 0.0143 - mean_squared_logarithmic_error: 0.0037 - val_loss: 0.0011 - val_acc: 0.0000e+00 - val_mean_squared_error: 0.0011 - val_mean_squared_logarithmic_error: 2.6116e-04\n",
      "Epoch 3/4\n",
      "52992/52992 [==============================] - 157s - loss: 0.0116 - acc: 0.0000e+00 - mean_squared_error: 0.0116 - mean_squared_logarithmic_error: 0.0030 - val_loss: 0.0013 - val_acc: 0.0000e+00 - val_mean_squared_error: 0.0013 - val_mean_squared_logarithmic_error: 3.1094e-04\n",
      "Epoch 4/4\n",
      "52992/52992 [==============================] - 137s - loss: 0.0099 - acc: 0.0000e+00 - mean_squared_error: 0.0099 - mean_squared_logarithmic_error: 0.0026 - val_loss: 9.5769e-04 - val_acc: 0.0000e+00 - val_mean_squared_error: 9.5769e-04 - val_mean_squared_logarithmic_error: 2.3818e-04\n"
     ]
    }
   ],
   "source": [
    "history = model.fit([jet_images, df_dict_jets['jet_pt'], df_dict_jets['jet_eta']],  df_dict_jets['jet_jes'],\n",
    "                    validation_data=([jet_images, df_dict_jets['jet_pt'], df_dict_jets['jet_eta']],  df_dict_jets['jet_jes']),\n",
    "                    nb_epoch=400, batch_size=bs, verbose=1, callbacks=[early_stopping])"
   ]
  },
  {
   "cell_type": "code",
   "execution_count": 19,
   "metadata": {
    "collapsed": true
   },
   "outputs": [],
   "source": [
    "model.save('models/DeepJEC.h5')"
   ]
  },
  {
   "cell_type": "code",
   "execution_count": 20,
   "metadata": {},
   "outputs": [
    {
     "data": {
      "image/png": "[encoded data removed]",
      "text/plain": [
       "<matplotlib.figure.Figure at 0x138eaadd0>"
      ]
     },
     "metadata": {},
     "output_type": "display_data"
    }
   ],
   "source": [
    "import matplotlib as mpl\n",
    "import matplotlib.pyplot as plt\n",
    "%matplotlib inline\n",
    "\n",
    "val_loss = np.asarray(history.history['val_loss'])\n",
    "loss = np.asarray(history.history['loss'])\n",
    "plt.plot(np.log(val_loss), label='test')\n",
    "plt.plot(np.log(loss), label='train')\n",
    "plt.legend()\n",
    "plt.xlabel('epoch')\n",
    "plt.ylabel('Loss')\n",
    "\n",
    "plt.savefig('plots/train_val_loss.pdf')"
   ]
  },
  {
   "cell_type": "code",
   "execution_count": null,
   "metadata": {
    "collapsed": true
   },
   "outputs": [],
   "source": []
  }
 ],
 "metadata": {
  "kernelspec": {
   "display_name": "Python 2",
   "language": "python",
   "name": "python2"
  },
  "language_info": {
   "codemirror_mode": {
    "name": "ipython",
    "version": 2
   },
   "file_extension": ".py",
   "mimetype": "text/x-python",
   "name": "python",
   "nbconvert_exporter": "python",
   "pygments_lexer": "ipython2",
   "version": "2.7.13"
  }
 },
 "nbformat": 4,
 "nbformat_minor": 2
}
