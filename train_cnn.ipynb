{
 "cells": [
  {
   "cell_type": "code",
   "execution_count": 1,
   "metadata": {},
   "outputs": [
    {
     "name": "stderr",
     "output_type": "stream",
     "text": [
      "Using TensorFlow backend.\n"
     ]
    }
   ],
   "source": [
    "import h5py\n",
    "import numpy as np\n",
    "seed = 7\n",
    "np.random.seed(seed)\n",
    "import pandas as pd\n",
    "from keras.layers import Input, Activation, Dense, Convolution2D, MaxPooling2D, Dropout, Flatten, merge\n",
    "from keras.models import Model"
   ]
  },
  {
   "cell_type": "code",
   "execution_count": null,
   "metadata": {
    "collapsed": true
   },
   "outputs": [],
   "source": [
    "radius = 'ak5' # Jet radius to use. Either 'ak5' or 'ak7'"
   ]
  },
  {
   "cell_type": "code",
   "execution_count": 2,
   "metadata": {
    "collapsed": true
   },
   "outputs": [],
   "source": [
    "####################\n",
    "# Global Variables #\n",
    "####################\n",
    "nx = 25 if radius == 'ak5' else 30 # size of image in eta\n",
    "ny = 25 if radius == 'ak5' else 30 # size of image in phi\n",
    "xbins = np.linspace(-1.0,1.0,nx+1)\n",
    "ybins = np.linspace(-1.0,1.0,ny+1)"
   ]
  },
  {
   "cell_type": "code",
   "execution_count": 3,
   "metadata": {
    "scrolled": false
   },
   "outputs": [
    {
     "name": "stdout",
     "output_type": "stream",
     "text": [
      "__________________________________________________________________________________________________\n",
      "Layer (type)                    Output Shape         Param #     Connected to                     \n",
      "==================================================================================================\n",
      "input_1 (InputLayer)            (None, 25, 25, 1)    0                                            \n",
      "__________________________________________________________________________________________________\n",
      "conv2d_1 (Conv2D)               (None, 25, 25, 15)   1230        input_1[0][0]                    \n",
      "__________________________________________________________________________________________________\n",
      "activation_1 (Activation)       (None, 25, 25, 15)   0           conv2d_1[0][0]                   \n",
      "__________________________________________________________________________________________________\n",
      "max_pooling2d_1 (MaxPooling2D)  (None, 12, 12, 15)   0           activation_1[0][0]               \n",
      "__________________________________________________________________________________________________\n",
      "conv2d_2 (Conv2D)               (None, 12, 12, 10)   7360        max_pooling2d_1[0][0]            \n",
      "__________________________________________________________________________________________________\n",
      "activation_2 (Activation)       (None, 12, 12, 10)   0           conv2d_2[0][0]                   \n",
      "__________________________________________________________________________________________________\n",
      "max_pooling2d_2 (MaxPooling2D)  (None, 4, 4, 10)     0           activation_2[0][0]               \n",
      "__________________________________________________________________________________________________\n",
      "conv2d_3 (Conv2D)               (None, 4, 4, 8)      2008        max_pooling2d_2[0][0]            \n",
      "__________________________________________________________________________________________________\n",
      "activation_3 (Activation)       (None, 4, 4, 8)      0           conv2d_3[0][0]                   \n",
      "__________________________________________________________________________________________________\n",
      "conv2d_4 (Conv2D)               (None, 4, 4, 6)      1206        activation_3[0][0]               \n",
      "__________________________________________________________________________________________________\n",
      "activation_4 (Activation)       (None, 4, 4, 6)      0           conv2d_4[0][0]                   \n",
      "__________________________________________________________________________________________________\n",
      "max_pooling2d_3 (MaxPooling2D)  (None, 2, 2, 6)      0           activation_4[0][0]               \n",
      "__________________________________________________________________________________________________\n",
      "conv2d_5 (Conv2D)               (None, 2, 2, 4)      604         max_pooling2d_3[0][0]            \n",
      "__________________________________________________________________________________________________\n",
      "activation_5 (Activation)       (None, 2, 2, 4)      0           conv2d_5[0][0]                   \n",
      "__________________________________________________________________________________________________\n",
      "flatten_1 (Flatten)             (None, 16)           0           activation_5[0][0]               \n",
      "__________________________________________________________________________________________________\n",
      "jet_eta_input (InputLayer)      (None, 1)            0                                            \n",
      "__________________________________________________________________________________________________\n",
      "merge_1 (Merge)                 (None, 17)           0           flatten_1[0][0]                  \n",
      "                                                                 jet_eta_input[0][0]              \n",
      "__________________________________________________________________________________________________\n",
      "dense_1 (Dense)                 (None, 20)           360         merge_1[0][0]                    \n",
      "__________________________________________________________________________________________________\n",
      "dropout_1 (Dropout)             (None, 20)           0           dense_1[0][0]                    \n",
      "__________________________________________________________________________________________________\n",
      "jet_pt_input (InputLayer)       (None, 1)            0                                            \n",
      "__________________________________________________________________________________________________\n",
      "merge_2 (Merge)                 (None, 21)           0           dropout_1[0][0]                  \n",
      "                                                                 jet_pt_input[0][0]               \n",
      "__________________________________________________________________________________________________\n",
      "dense_2 (Dense)                 (None, 20)           440         merge_2[0][0]                    \n",
      "__________________________________________________________________________________________________\n",
      "dropout_2 (Dropout)             (None, 20)           0           dense_2[0][0]                    \n",
      "__________________________________________________________________________________________________\n",
      "main_output (Dense)             (None, 1)            21          dropout_2[0][0]                  \n",
      "==================================================================================================\n",
      "Total params: 13,229\n",
      "Trainable params: 13,229\n",
      "Non-trainable params: 0\n",
      "__________________________________________________________________________________________________\n"
     ]
    },
    {
     "name": "stderr",
     "output_type": "stream",
     "text": [
      "/usr/lib/python2.7/dist-packages/ipykernel_launcher.py:20: UserWarning: The `merge` function is deprecated and will be removed after 08/2017. Use instead layers from `keras.layers.merge`, e.g. `add`, `concatenate`, etc.\n",
      "/usr/local/lib/python2.7/site-packages/keras/legacy/layers.py:458: UserWarning: The `Merge` layer is deprecated and will be removed after 08/2017. Use instead layers from `keras.layers.merge`, e.g. `add`, `concatenate`, etc.\n",
      "  name=name)\n",
      "/usr/lib/python2.7/dist-packages/ipykernel_launcher.py:24: UserWarning: The `merge` function is deprecated and will be removed after 08/2017. Use instead layers from `keras.layers.merge`, e.g. `add`, `concatenate`, etc.\n"
     ]
    }
   ],
   "source": [
    "input_layer = Input(shape=(nx,ny,1))\n",
    "layer = Convolution2D(15, (9,9), padding='same')(input_layer)\n",
    "layer = Activation('tanh')(layer)\n",
    "layer = MaxPooling2D(pool_size=(2,2))(layer)\n",
    "layer = Convolution2D(10, (7,7), padding='same')(layer)\n",
    "layer = Activation('tanh')(layer)\n",
    "layer = MaxPooling2D(pool_size=(3,3))(layer)\n",
    "layer = Convolution2D(8, (5,5), padding='same')(layer)\n",
    "layer = Activation('tanh')(layer)\n",
    "layer = Convolution2D(6, (5,5), padding='same')(layer)\n",
    "layer = Activation('tanh')(layer)\n",
    "layer = MaxPooling2D(pool_size=(2,2))(layer)\n",
    "layer = Convolution2D(4, (5,5), padding='same')(layer)\n",
    "layer = Activation('tanh')(layer)\n",
    "\n",
    "layer = Flatten()(layer)\n",
    "\n",
    "# additional features input\n",
    "jet_eta_input = Input(shape=(1,), name='jet_eta_input')\n",
    "layer = merge([layer, jet_eta_input], mode='concat')\n",
    "layer = Dense(20, activation='sigmoid')(layer)\n",
    "layer = Dropout(0.08)(layer)\n",
    "jet_pt_input = Input(shape=(1,), name='jet_pt_input')\n",
    "layer = merge([layer, jet_pt_input], mode='concat')\n",
    "layer = Dense(20, activation='softplus')(layer)\n",
    "layer = Dropout(0.08)(layer)\n",
    "output_layer = Dense(1, activation='linear', name='main_output')(layer)\n",
    "model = Model(inputs=[input_layer,jet_pt_input,jet_eta_input], outputs=output_layer)\n",
    "\n",
    "model.compile(optimizer='adam', loss='mse', metrics=['accuracy','mse','msle'])\n",
    "model.summary()"
   ]
  },
  {
   "cell_type": "code",
   "execution_count": 4,
   "metadata": {
    "collapsed": true
   },
   "outputs": [],
   "source": [
    "df_jets = pd.read_pickle('data/{}/df_jets_.pkl'.format(radius, radius))"
   ]
  },
  {
   "cell_type": "code",
   "execution_count": 5,
   "metadata": {
    "collapsed": true
   },
   "outputs": [],
   "source": [
    "from sklearn.model_selection import train_test_split\n",
    "df_jets_train, df_jets_test = train_test_split(df_jets, train_size=0.8, random_state = seed)\n",
    "\n",
    "jet_images_train = np.stack(df_jets_train['jet_images'])\n",
    "jet_images_test = np.stack(df_jets_test['jet_images'])"
   ]
  },
  {
   "cell_type": "code",
   "execution_count": 6,
   "metadata": {},
   "outputs": [
    {
     "name": "stdout",
     "output_type": "stream",
     "text": [
      "(42393, 33)\n",
      "(10599, 33)\n",
      "(42393, 25, 25, 1)\n",
      "(10599, 25, 25, 1)\n"
     ]
    }
   ],
   "source": [
    "print(df_jets_train.shape)\n",
    "print(df_jets_test.shape)\n",
    "\n",
    "print(jet_images_train.shape)\n",
    "print(jet_images_test.shape)"
   ]
  },
  {
   "cell_type": "code",
   "execution_count": 7,
   "metadata": {
    "collapsed": true
   },
   "outputs": [],
   "source": [
    "from keras.callbacks import EarlyStopping\n",
    "early_stopping = EarlyStopping(monitor='val_loss', patience=20)\n",
    "bs=256"
   ]
  },
  {
   "cell_type": "code",
   "execution_count": 8,
   "metadata": {
    "scrolled": false
   },
   "outputs": [
    {
     "name": "stderr",
     "output_type": "stream",
     "text": [
      "/usr/lib/python2.7/dist-packages/ipykernel_launcher.py:3: UserWarning: The `nb_epoch` argument in `fit` has been renamed `epochs`.\n",
      "  This is separate from the ipykernel package so we can avoid doing imports until\n"
     ]
    },
    {
     "name": "stdout",
     "output_type": "stream",
     "text": [
      "Train on 42393 samples, validate on 10599 samples\n",
      "Epoch 1/400\n",
      "42393/42393 [==============================] - 4s 98us/step - loss: 0.1147 - acc: 0.0000e+00 - mean_squared_error: 0.1147 - mean_squared_logarithmic_error: 0.0369 - val_loss: 0.0014 - val_acc: 0.0000e+00 - val_mean_squared_error: 0.0014 - val_mean_squared_logarithmic_error: 3.4579e-04\n",
      "Epoch 2/400\n",
      "42393/42393 [==============================] - 3s 74us/step - loss: 0.0455 - acc: 0.0000e+00 - mean_squared_error: 0.0455 - mean_squared_logarithmic_error: 0.0127 - val_loss: 0.0011 - val_acc: 0.0000e+00 - val_mean_squared_error: 0.0011 - val_mean_squared_logarithmic_error: 2.6374e-04\n",
      "Epoch 3/400\n",
      "42393/42393 [==============================] - 3s 73us/step - loss: 0.0318 - acc: 0.0000e+00 - mean_squared_error: 0.0318 - mean_squared_logarithmic_error: 0.0086 - val_loss: 0.0011 - val_acc: 0.0000e+00 - val_mean_squared_error: 0.0011 - val_mean_squared_logarithmic_error: 2.6496e-04\n",
      "Epoch 4/400\n",
      "42393/42393 [==============================] - 3s 73us/step - loss: 0.0235 - acc: 0.0000e+00 - mean_squared_error: 0.0235 - mean_squared_logarithmic_error: 0.0063 - val_loss: 0.0011 - val_acc: 0.0000e+00 - val_mean_squared_error: 0.0011 - val_mean_squared_logarithmic_error: 2.6626e-04\n",
      "Epoch 5/400\n",
      "42393/42393 [==============================] - 3s 73us/step - loss: 0.0185 - acc: 0.0000e+00 - mean_squared_error: 0.0185 - mean_squared_logarithmic_error: 0.0049 - val_loss: 9.9887e-04 - val_acc: 0.0000e+00 - val_mean_squared_error: 9.9887e-04 - val_mean_squared_logarithmic_error: 2.4863e-04\n",
      "Epoch 6/400\n",
      "42393/42393 [==============================] - 3s 75us/step - loss: 0.0150 - acc: 0.0000e+00 - mean_squared_error: 0.0150 - mean_squared_logarithmic_error: 0.0039 - val_loss: 0.0010 - val_acc: 0.0000e+00 - val_mean_squared_error: 0.0010 - val_mean_squared_logarithmic_error: 2.5689e-04\n",
      "Epoch 7/400\n",
      "42393/42393 [==============================] - 3s 73us/step - loss: 0.0125 - acc: 0.0000e+00 - mean_squared_error: 0.0125 - mean_squared_logarithmic_error: 0.0032 - val_loss: 0.0010 - val_acc: 0.0000e+00 - val_mean_squared_error: 0.0010 - val_mean_squared_logarithmic_error: 2.4902e-04\n",
      "Epoch 8/400\n",
      "42393/42393 [==============================] - 3s 73us/step - loss: 0.0108 - acc: 0.0000e+00 - mean_squared_error: 0.0108 - mean_squared_logarithmic_error: 0.0028 - val_loss: 0.0010 - val_acc: 0.0000e+00 - val_mean_squared_error: 0.0010 - val_mean_squared_logarithmic_error: 2.5869e-04\n",
      "Epoch 9/400\n",
      "42393/42393 [==============================] - 3s 73us/step - loss: 0.0096 - acc: 0.0000e+00 - mean_squared_error: 0.0096 - mean_squared_logarithmic_error: 0.0025 - val_loss: 0.0010 - val_acc: 0.0000e+00 - val_mean_squared_error: 0.0010 - val_mean_squared_logarithmic_error: 2.4939e-04\n",
      "Epoch 10/400\n",
      "42393/42393 [==============================] - 3s 73us/step - loss: 0.0087 - acc: 0.0000e+00 - mean_squared_error: 0.0087 - mean_squared_logarithmic_error: 0.0022 - val_loss: 0.0010 - val_acc: 0.0000e+00 - val_mean_squared_error: 0.0010 - val_mean_squared_logarithmic_error: 2.5023e-04\n",
      "Epoch 11/400\n",
      "42393/42393 [==============================] - 3s 74us/step - loss: 0.0079 - acc: 0.0000e+00 - mean_squared_error: 0.0079 - mean_squared_logarithmic_error: 0.0020 - val_loss: 9.7217e-04 - val_acc: 0.0000e+00 - val_mean_squared_error: 9.7217e-04 - val_mean_squared_logarithmic_error: 2.4202e-04\n",
      "Epoch 12/400\n",
      "42393/42393 [==============================] - 3s 73us/step - loss: 0.0074 - acc: 0.0000e+00 - mean_squared_error: 0.0074 - mean_squared_logarithmic_error: 0.0019 - val_loss: 9.7761e-04 - val_acc: 0.0000e+00 - val_mean_squared_error: 9.7761e-04 - val_mean_squared_logarithmic_error: 2.4338e-04\n",
      "Epoch 13/400\n",
      "42393/42393 [==============================] - 3s 73us/step - loss: 0.0068 - acc: 0.0000e+00 - mean_squared_error: 0.0068 - mean_squared_logarithmic_error: 0.0017 - val_loss: 0.0011 - val_acc: 0.0000e+00 - val_mean_squared_error: 0.0011 - val_mean_squared_logarithmic_error: 2.6871e-04\n",
      "Epoch 14/400\n",
      "42393/42393 [==============================] - 3s 73us/step - loss: 0.0063 - acc: 0.0000e+00 - mean_squared_error: 0.0063 - mean_squared_logarithmic_error: 0.0016 - val_loss: 9.7576e-04 - val_acc: 0.0000e+00 - val_mean_squared_error: 9.7576e-04 - val_mean_squared_logarithmic_error: 2.4286e-04\n",
      "Epoch 15/400\n",
      "42393/42393 [==============================] - 3s 75us/step - loss: 0.0058 - acc: 0.0000e+00 - mean_squared_error: 0.0058 - mean_squared_logarithmic_error: 0.0015 - val_loss: 9.5700e-04 - val_acc: 0.0000e+00 - val_mean_squared_error: 9.5700e-04 - val_mean_squared_logarithmic_error: 2.3841e-04\n",
      "Epoch 16/400\n",
      "42393/42393 [==============================] - 3s 73us/step - loss: 0.0054 - acc: 0.0000e+00 - mean_squared_error: 0.0054 - mean_squared_logarithmic_error: 0.0014 - val_loss: 9.6565e-04 - val_acc: 0.0000e+00 - val_mean_squared_error: 9.6565e-04 - val_mean_squared_logarithmic_error: 2.4048e-04\n",
      "Epoch 17/400\n",
      "42393/42393 [==============================] - 3s 73us/step - loss: 0.0049 - acc: 0.0000e+00 - mean_squared_error: 0.0049 - mean_squared_logarithmic_error: 0.0013 - val_loss: 0.0010 - val_acc: 0.0000e+00 - val_mean_squared_error: 0.0010 - val_mean_squared_logarithmic_error: 2.5376e-04\n",
      "Epoch 18/400\n",
      "42393/42393 [==============================] - 3s 73us/step - loss: 0.0046 - acc: 0.0000e+00 - mean_squared_error: 0.0046 - mean_squared_logarithmic_error: 0.0012 - val_loss: 9.6515e-04 - val_acc: 0.0000e+00 - val_mean_squared_error: 9.6515e-04 - val_mean_squared_logarithmic_error: 2.4034e-04\n",
      "Epoch 19/400\n",
      "42393/42393 [==============================] - 3s 74us/step - loss: 0.0043 - acc: 0.0000e+00 - mean_squared_error: 0.0043 - mean_squared_logarithmic_error: 0.0011 - val_loss: 9.8141e-04 - val_acc: 0.0000e+00 - val_mean_squared_error: 9.8141e-04 - val_mean_squared_logarithmic_error: 2.4421e-04\n",
      "Epoch 20/400\n",
      "42393/42393 [==============================] - 3s 73us/step - loss: 0.0039 - acc: 0.0000e+00 - mean_squared_error: 0.0039 - mean_squared_logarithmic_error: 9.7411e-04 - val_loss: 0.0010 - val_acc: 0.0000e+00 - val_mean_squared_error: 0.0010 - val_mean_squared_logarithmic_error: 2.5113e-04\n",
      "Epoch 21/400\n",
      "42393/42393 [==============================] - 3s 73us/step - loss: 0.0036 - acc: 0.0000e+00 - mean_squared_error: 0.0036 - mean_squared_logarithmic_error: 9.0343e-04 - val_loss: 9.4256e-04 - val_acc: 0.0000e+00 - val_mean_squared_error: 9.4256e-04 - val_mean_squared_logarithmic_error: 2.3514e-04\n",
      "Epoch 22/400\n",
      "42393/42393 [==============================] - 3s 75us/step - loss: 0.0033 - acc: 0.0000e+00 - mean_squared_error: 0.0033 - mean_squared_logarithmic_error: 8.1950e-04 - val_loss: 0.0010 - val_acc: 0.0000e+00 - val_mean_squared_error: 0.0010 - val_mean_squared_logarithmic_error: 2.4950e-04\n",
      "Epoch 23/400\n",
      "42393/42393 [==============================] - 3s 73us/step - loss: 0.0030 - acc: 0.0000e+00 - mean_squared_error: 0.0030 - mean_squared_logarithmic_error: 7.4845e-04 - val_loss: 9.7813e-04 - val_acc: 0.0000e+00 - val_mean_squared_error: 9.7813e-04 - val_mean_squared_logarithmic_error: 2.4342e-04\n",
      "Epoch 24/400\n",
      "42393/42393 [==============================] - 3s 73us/step - loss: 0.0027 - acc: 0.0000e+00 - mean_squared_error: 0.0027 - mean_squared_logarithmic_error: 6.8381e-04 - val_loss: 9.4972e-04 - val_acc: 0.0000e+00 - val_mean_squared_error: 9.4972e-04 - val_mean_squared_logarithmic_error: 2.3673e-04\n",
      "Epoch 25/400\n",
      "42393/42393 [==============================] - 3s 73us/step - loss: 0.0025 - acc: 0.0000e+00 - mean_squared_error: 0.0025 - mean_squared_logarithmic_error: 6.2680e-04 - val_loss: 9.5371e-04 - val_acc: 0.0000e+00 - val_mean_squared_error: 9.5371e-04 - val_mean_squared_logarithmic_error: 2.3769e-04\n",
      "Epoch 26/400\n",
      "42393/42393 [==============================] - 3s 74us/step - loss: 0.0023 - acc: 0.0000e+00 - mean_squared_error: 0.0023 - mean_squared_logarithmic_error: 5.7125e-04 - val_loss: 9.7021e-04 - val_acc: 0.0000e+00 - val_mean_squared_error: 9.7021e-04 - val_mean_squared_logarithmic_error: 2.4155e-04\n",
      "Epoch 27/400\n",
      "42393/42393 [==============================] - 3s 74us/step - loss: 0.0021 - acc: 0.0000e+00 - mean_squared_error: 0.0021 - mean_squared_logarithmic_error: 5.1675e-04 - val_loss: 9.4679e-04 - val_acc: 0.0000e+00 - val_mean_squared_error: 9.4679e-04 - val_mean_squared_logarithmic_error: 2.3608e-04\n"
     ]
    },
    {
     "name": "stdout",
     "output_type": "stream",
     "text": [
      "Epoch 28/400\n",
      "42393/42393 [==============================] - 3s 73us/step - loss: 0.0019 - acc: 0.0000e+00 - mean_squared_error: 0.0019 - mean_squared_logarithmic_error: 4.7999e-04 - val_loss: 9.3959e-04 - val_acc: 0.0000e+00 - val_mean_squared_error: 9.3959e-04 - val_mean_squared_logarithmic_error: 2.3457e-04\n",
      "Epoch 29/400\n",
      "42393/42393 [==============================] - 3s 73us/step - loss: 0.0017 - acc: 0.0000e+00 - mean_squared_error: 0.0017 - mean_squared_logarithmic_error: 4.3598e-04 - val_loss: 9.3980e-04 - val_acc: 0.0000e+00 - val_mean_squared_error: 9.3980e-04 - val_mean_squared_logarithmic_error: 2.3462e-04\n",
      "Epoch 30/400\n",
      "42393/42393 [==============================] - 3s 73us/step - loss: 0.0016 - acc: 0.0000e+00 - mean_squared_error: 0.0016 - mean_squared_logarithmic_error: 4.0502e-04 - val_loss: 9.4745e-04 - val_acc: 0.0000e+00 - val_mean_squared_error: 9.4745e-04 - val_mean_squared_logarithmic_error: 2.3627e-04\n",
      "Epoch 31/400\n",
      "42393/42393 [==============================] - 3s 74us/step - loss: 0.0015 - acc: 0.0000e+00 - mean_squared_error: 0.0015 - mean_squared_logarithmic_error: 3.7370e-04 - val_loss: 9.4292e-04 - val_acc: 0.0000e+00 - val_mean_squared_error: 9.4292e-04 - val_mean_squared_logarithmic_error: 2.3572e-04\n",
      "Epoch 32/400\n",
      "42393/42393 [==============================] - 3s 75us/step - loss: 0.0014 - acc: 0.0000e+00 - mean_squared_error: 0.0014 - mean_squared_logarithmic_error: 3.4592e-04 - val_loss: 9.4849e-04 - val_acc: 0.0000e+00 - val_mean_squared_error: 9.4849e-04 - val_mean_squared_logarithmic_error: 2.3651e-04\n",
      "Epoch 33/400\n",
      "42393/42393 [==============================] - 3s 73us/step - loss: 0.0013 - acc: 0.0000e+00 - mean_squared_error: 0.0013 - mean_squared_logarithmic_error: 3.2560e-04 - val_loss: 9.9063e-04 - val_acc: 0.0000e+00 - val_mean_squared_error: 9.9063e-04 - val_mean_squared_logarithmic_error: 2.4646e-04\n",
      "Epoch 34/400\n",
      "42393/42393 [==============================] - 3s 74us/step - loss: 0.0012 - acc: 0.0000e+00 - mean_squared_error: 0.0012 - mean_squared_logarithmic_error: 3.0993e-04 - val_loss: 9.4036e-04 - val_acc: 0.0000e+00 - val_mean_squared_error: 9.4036e-04 - val_mean_squared_logarithmic_error: 2.3488e-04\n",
      "Epoch 35/400\n",
      "42393/42393 [==============================] - 3s 77us/step - loss: 0.0012 - acc: 0.0000e+00 - mean_squared_error: 0.0012 - mean_squared_logarithmic_error: 2.9467e-04 - val_loss: 9.4657e-04 - val_acc: 0.0000e+00 - val_mean_squared_error: 9.4657e-04 - val_mean_squared_logarithmic_error: 2.3614e-04\n",
      "Epoch 36/400\n",
      "42393/42393 [==============================] - 3s 73us/step - loss: 0.0011 - acc: 0.0000e+00 - mean_squared_error: 0.0011 - mean_squared_logarithmic_error: 2.8077e-04 - val_loss: 9.4210e-04 - val_acc: 0.0000e+00 - val_mean_squared_error: 9.4210e-04 - val_mean_squared_logarithmic_error: 2.3521e-04\n",
      "Epoch 37/400\n",
      "42393/42393 [==============================] - 3s 74us/step - loss: 0.0011 - acc: 0.0000e+00 - mean_squared_error: 0.0011 - mean_squared_logarithmic_error: 2.7271e-04 - val_loss: 9.4127e-04 - val_acc: 0.0000e+00 - val_mean_squared_error: 9.4127e-04 - val_mean_squared_logarithmic_error: 2.3518e-04\n",
      "Epoch 38/400\n",
      "42393/42393 [==============================] - 3s 74us/step - loss: 0.0011 - acc: 0.0000e+00 - mean_squared_error: 0.0011 - mean_squared_logarithmic_error: 2.6596e-04 - val_loss: 9.4702e-04 - val_acc: 0.0000e+00 - val_mean_squared_error: 9.4702e-04 - val_mean_squared_logarithmic_error: 2.3628e-04\n",
      "Epoch 39/400\n",
      "42393/42393 [==============================] - 3s 78us/step - loss: 0.0010 - acc: 0.0000e+00 - mean_squared_error: 0.0010 - mean_squared_logarithmic_error: 2.5990e-04 - val_loss: 9.4928e-04 - val_acc: 0.0000e+00 - val_mean_squared_error: 9.4928e-04 - val_mean_squared_logarithmic_error: 2.3680e-04\n",
      "Epoch 40/400\n",
      "42393/42393 [==============================] - 3s 74us/step - loss: 0.0010 - acc: 0.0000e+00 - mean_squared_error: 0.0010 - mean_squared_logarithmic_error: 2.5530e-04 - val_loss: 9.4365e-04 - val_acc: 0.0000e+00 - val_mean_squared_error: 9.4365e-04 - val_mean_squared_logarithmic_error: 2.3588e-04\n",
      "Epoch 41/400\n",
      "42393/42393 [==============================] - 3s 73us/step - loss: 0.0010 - acc: 0.0000e+00 - mean_squared_error: 0.0010 - mean_squared_logarithmic_error: 2.5194e-04 - val_loss: 9.4288e-04 - val_acc: 0.0000e+00 - val_mean_squared_error: 9.4288e-04 - val_mean_squared_logarithmic_error: 2.3563e-04\n",
      "Epoch 42/400\n",
      "42393/42393 [==============================] - 3s 75us/step - loss: 0.0010 - acc: 0.0000e+00 - mean_squared_error: 0.0010 - mean_squared_logarithmic_error: 2.4980e-04 - val_loss: 9.4527e-04 - val_acc: 0.0000e+00 - val_mean_squared_error: 9.4527e-04 - val_mean_squared_logarithmic_error: 2.3594e-04\n",
      "Epoch 43/400\n",
      "42393/42393 [==============================] - 3s 73us/step - loss: 9.9028e-04 - acc: 0.0000e+00 - mean_squared_error: 9.9028e-04 - mean_squared_logarithmic_error: 2.4683e-04 - val_loss: 9.4247e-04 - val_acc: 0.0000e+00 - val_mean_squared_error: 9.4247e-04 - val_mean_squared_logarithmic_error: 2.3537e-04\n",
      "Epoch 44/400\n",
      "42393/42393 [==============================] - 3s 73us/step - loss: 9.8613e-04 - acc: 0.0000e+00 - mean_squared_error: 9.8613e-04 - mean_squared_logarithmic_error: 2.4585e-04 - val_loss: 9.4740e-04 - val_acc: 0.0000e+00 - val_mean_squared_error: 9.4740e-04 - val_mean_squared_logarithmic_error: 2.3696e-04\n",
      "Epoch 45/400\n",
      "42393/42393 [==============================] - 3s 79us/step - loss: 9.7530e-04 - acc: 0.0000e+00 - mean_squared_error: 9.7530e-04 - mean_squared_logarithmic_error: 2.4315e-04 - val_loss: 9.4119e-04 - val_acc: 0.0000e+00 - val_mean_squared_error: 9.4119e-04 - val_mean_squared_logarithmic_error: 2.3515e-04\n",
      "Epoch 46/400\n",
      "42393/42393 [==============================] - 3s 74us/step - loss: 9.7607e-04 - acc: 0.0000e+00 - mean_squared_error: 9.7607e-04 - mean_squared_logarithmic_error: 2.4336e-04 - val_loss: 9.4568e-04 - val_acc: 0.0000e+00 - val_mean_squared_error: 9.4568e-04 - val_mean_squared_logarithmic_error: 2.3659e-04\n",
      "Epoch 47/400\n",
      "42393/42393 [==============================] - 3s 75us/step - loss: 9.6614e-04 - acc: 0.0000e+00 - mean_squared_error: 9.6614e-04 - mean_squared_logarithmic_error: 2.4088e-04 - val_loss: 9.3588e-04 - val_acc: 0.0000e+00 - val_mean_squared_error: 9.3588e-04 - val_mean_squared_logarithmic_error: 2.3404e-04\n",
      "Epoch 48/400\n",
      "42393/42393 [==============================] - 3s 74us/step - loss: 9.5951e-04 - acc: 0.0000e+00 - mean_squared_error: 9.5951e-04 - mean_squared_logarithmic_error: 2.3923e-04 - val_loss: 9.6308e-04 - val_acc: 0.0000e+00 - val_mean_squared_error: 9.6308e-04 - val_mean_squared_logarithmic_error: 2.4111e-04\n",
      "Epoch 49/400\n",
      "42393/42393 [==============================] - 3s 80us/step - loss: 9.5079e-04 - acc: 0.0000e+00 - mean_squared_error: 9.5079e-04 - mean_squared_logarithmic_error: 2.3704e-04 - val_loss: 9.4948e-04 - val_acc: 0.0000e+00 - val_mean_squared_error: 9.4948e-04 - val_mean_squared_logarithmic_error: 2.3616e-04\n",
      "Epoch 50/400\n",
      "42393/42393 [==============================] - 3s 74us/step - loss: 9.3465e-04 - acc: 0.0000e+00 - mean_squared_error: 9.3465e-04 - mean_squared_logarithmic_error: 2.3297e-04 - val_loss: 9.0044e-04 - val_acc: 0.0000e+00 - val_mean_squared_error: 9.0044e-04 - val_mean_squared_logarithmic_error: 2.2520e-04\n",
      "Epoch 51/400\n",
      "42393/42393 [==============================] - 3s 73us/step - loss: 9.0832e-04 - acc: 0.0000e+00 - mean_squared_error: 9.0832e-04 - mean_squared_logarithmic_error: 2.2638e-04 - val_loss: 8.7566e-04 - val_acc: 0.0000e+00 - val_mean_squared_error: 8.7566e-04 - val_mean_squared_logarithmic_error: 2.1890e-04\n",
      "Epoch 52/400\n",
      "42393/42393 [==============================] - 3s 75us/step - loss: 8.9610e-04 - acc: 0.0000e+00 - mean_squared_error: 8.9610e-04 - mean_squared_logarithmic_error: 2.2336e-04 - val_loss: 8.6450e-04 - val_acc: 0.0000e+00 - val_mean_squared_error: 8.6450e-04 - val_mean_squared_logarithmic_error: 2.1574e-04\n",
      "Epoch 53/400\n",
      "42393/42393 [==============================] - 3s 75us/step - loss: 8.8259e-04 - acc: 0.0000e+00 - mean_squared_error: 8.8259e-04 - mean_squared_logarithmic_error: 2.1998e-04 - val_loss: 8.5069e-04 - val_acc: 0.0000e+00 - val_mean_squared_error: 8.5069e-04 - val_mean_squared_logarithmic_error: 2.1208e-04\n",
      "Epoch 54/400\n",
      "42393/42393 [==============================] - 3s 74us/step - loss: 8.7104e-04 - acc: 0.0000e+00 - mean_squared_error: 8.7104e-04 - mean_squared_logarithmic_error: 2.1713e-04 - val_loss: 8.4259e-04 - val_acc: 0.0000e+00 - val_mean_squared_error: 8.4259e-04 - val_mean_squared_logarithmic_error: 2.1049e-04\n",
      "Epoch 55/400\n",
      "42393/42393 [==============================] - 3s 74us/step - loss: 8.5677e-04 - acc: 0.0000e+00 - mean_squared_error: 8.5677e-04 - mean_squared_logarithmic_error: 2.1353e-04 - val_loss: 8.5895e-04 - val_acc: 0.0000e+00 - val_mean_squared_error: 8.5895e-04 - val_mean_squared_logarithmic_error: 2.1482e-04\n",
      "Epoch 56/400\n",
      "42393/42393 [==============================] - 3s 73us/step - loss: 8.4767e-04 - acc: 0.0000e+00 - mean_squared_error: 8.4767e-04 - mean_squared_logarithmic_error: 2.1125e-04 - val_loss: 8.3845e-04 - val_acc: 0.0000e+00 - val_mean_squared_error: 8.3845e-04 - val_mean_squared_logarithmic_error: 2.0939e-04\n",
      "Epoch 57/400\n",
      "42393/42393 [==============================] - 3s 74us/step - loss: 8.4051e-04 - acc: 0.0000e+00 - mean_squared_error: 8.4051e-04 - mean_squared_logarithmic_error: 2.0945e-04 - val_loss: 8.4950e-04 - val_acc: 0.0000e+00 - val_mean_squared_error: 8.4950e-04 - val_mean_squared_logarithmic_error: 2.1182e-04\n",
      "Epoch 58/400\n",
      "42393/42393 [==============================] - 3s 75us/step - loss: 8.2911e-04 - acc: 0.0000e+00 - mean_squared_error: 8.2911e-04 - mean_squared_logarithmic_error: 2.0654e-04 - val_loss: 8.3954e-04 - val_acc: 0.0000e+00 - val_mean_squared_error: 8.3954e-04 - val_mean_squared_logarithmic_error: 2.0987e-04\n",
      "Epoch 59/400\n",
      "42393/42393 [==============================] - 3s 74us/step - loss: 8.2031e-04 - acc: 0.0000e+00 - mean_squared_error: 8.2031e-04 - mean_squared_logarithmic_error: 2.0435e-04 - val_loss: 8.2940e-04 - val_acc: 0.0000e+00 - val_mean_squared_error: 8.2940e-04 - val_mean_squared_logarithmic_error: 2.0702e-04\n",
      "Epoch 60/400\n",
      "42393/42393 [==============================] - 3s 74us/step - loss: 8.0768e-04 - acc: 0.0000e+00 - mean_squared_error: 8.0768e-04 - mean_squared_logarithmic_error: 2.0121e-04 - val_loss: 8.3122e-04 - val_acc: 0.0000e+00 - val_mean_squared_error: 8.3122e-04 - val_mean_squared_logarithmic_error: 2.0752e-04\n",
      "Epoch 61/400\n",
      "42393/42393 [==============================] - 3s 73us/step - loss: 7.9979e-04 - acc: 0.0000e+00 - mean_squared_error: 7.9979e-04 - mean_squared_logarithmic_error: 1.9919e-04 - val_loss: 8.3562e-04 - val_acc: 0.0000e+00 - val_mean_squared_error: 8.3562e-04 - val_mean_squared_logarithmic_error: 2.0883e-04\n",
      "Epoch 62/400\n",
      "42393/42393 [==============================] - 3s 73us/step - loss: 7.9100e-04 - acc: 0.0000e+00 - mean_squared_error: 7.9100e-04 - mean_squared_logarithmic_error: 1.9697e-04 - val_loss: 8.4508e-04 - val_acc: 0.0000e+00 - val_mean_squared_error: 8.4508e-04 - val_mean_squared_logarithmic_error: 2.1082e-04\n",
      "Epoch 63/400\n",
      "42393/42393 [==============================] - 3s 73us/step - loss: 7.8493e-04 - acc: 0.0000e+00 - mean_squared_error: 7.8493e-04 - mean_squared_logarithmic_error: 1.9547e-04 - val_loss: 8.3478e-04 - val_acc: 0.0000e+00 - val_mean_squared_error: 8.3478e-04 - val_mean_squared_logarithmic_error: 2.0835e-04\n",
      "Epoch 64/400\n",
      "42393/42393 [==============================] - 3s 75us/step - loss: 7.7701e-04 - acc: 0.0000e+00 - mean_squared_error: 7.7701e-04 - mean_squared_logarithmic_error: 1.9344e-04 - val_loss: 8.4697e-04 - val_acc: 0.0000e+00 - val_mean_squared_error: 8.4697e-04 - val_mean_squared_logarithmic_error: 2.1127e-04\n",
      "Epoch 65/400\n",
      "42393/42393 [==============================] - 3s 73us/step - loss: 7.6154e-04 - acc: 0.0000e+00 - mean_squared_error: 7.6154e-04 - mean_squared_logarithmic_error: 1.8953e-04 - val_loss: 8.4400e-04 - val_acc: 0.0000e+00 - val_mean_squared_error: 8.4400e-04 - val_mean_squared_logarithmic_error: 2.1100e-04\n",
      "Epoch 66/400\n",
      "42393/42393 [==============================] - 3s 73us/step - loss: 7.5545e-04 - acc: 0.0000e+00 - mean_squared_error: 7.5545e-04 - mean_squared_logarithmic_error: 1.8799e-04 - val_loss: 8.8186e-04 - val_acc: 0.0000e+00 - val_mean_squared_error: 8.8186e-04 - val_mean_squared_logarithmic_error: 2.2086e-04\n",
      "Epoch 67/400\n",
      "42393/42393 [==============================] - 3s 73us/step - loss: 7.5126e-04 - acc: 0.0000e+00 - mean_squared_error: 7.5126e-04 - mean_squared_logarithmic_error: 1.8693e-04 - val_loss: 8.7000e-04 - val_acc: 0.0000e+00 - val_mean_squared_error: 8.7000e-04 - val_mean_squared_logarithmic_error: 2.1772e-04\n",
      "Epoch 68/400\n",
      "42393/42393 [==============================] - 3s 74us/step - loss: 7.4290e-04 - acc: 0.0000e+00 - mean_squared_error: 7.4290e-04 - mean_squared_logarithmic_error: 1.8479e-04 - val_loss: 8.6108e-04 - val_acc: 0.0000e+00 - val_mean_squared_error: 8.6108e-04 - val_mean_squared_logarithmic_error: 2.1541e-04\n",
      "Epoch 69/400\n",
      "42393/42393 [==============================] - 3s 74us/step - loss: 7.3664e-04 - acc: 0.0000e+00 - mean_squared_error: 7.3664e-04 - mean_squared_logarithmic_error: 1.8319e-04 - val_loss: 8.7164e-04 - val_acc: 0.0000e+00 - val_mean_squared_error: 8.7164e-04 - val_mean_squared_logarithmic_error: 2.1773e-04\n",
      "Epoch 70/400\n",
      "42393/42393 [==============================] - 3s 73us/step - loss: 7.2213e-04 - acc: 0.0000e+00 - mean_squared_error: 7.2213e-04 - mean_squared_logarithmic_error: 1.7951e-04 - val_loss: 8.5495e-04 - val_acc: 0.0000e+00 - val_mean_squared_error: 8.5495e-04 - val_mean_squared_logarithmic_error: 2.1372e-04\n",
      "Epoch 71/400\n",
      "42393/42393 [==============================] - 3s 73us/step - loss: 7.0857e-04 - acc: 0.0000e+00 - mean_squared_error: 7.0857e-04 - mean_squared_logarithmic_error: 1.7607e-04 - val_loss: 8.6462e-04 - val_acc: 0.0000e+00 - val_mean_squared_error: 8.6462e-04 - val_mean_squared_logarithmic_error: 2.1588e-04\n",
      "Epoch 72/400\n",
      "42393/42393 [==============================] - 3s 74us/step - loss: 7.0390e-04 - acc: 0.0000e+00 - mean_squared_error: 7.0390e-04 - mean_squared_logarithmic_error: 1.7490e-04 - val_loss: 8.6444e-04 - val_acc: 0.0000e+00 - val_mean_squared_error: 8.6444e-04 - val_mean_squared_logarithmic_error: 2.1598e-04\n",
      "Epoch 73/400\n",
      "42393/42393 [==============================] - 3s 74us/step - loss: 6.9874e-04 - acc: 0.0000e+00 - mean_squared_error: 6.9874e-04 - mean_squared_logarithmic_error: 1.7359e-04 - val_loss: 8.7995e-04 - val_acc: 0.0000e+00 - val_mean_squared_error: 8.7995e-04 - val_mean_squared_logarithmic_error: 2.2001e-04\n",
      "Epoch 74/400\n",
      "42393/42393 [==============================] - 3s 73us/step - loss: 6.8752e-04 - acc: 0.0000e+00 - mean_squared_error: 6.8752e-04 - mean_squared_logarithmic_error: 1.7073e-04 - val_loss: 8.7645e-04 - val_acc: 0.0000e+00 - val_mean_squared_error: 8.7645e-04 - val_mean_squared_logarithmic_error: 2.1936e-04\n",
      "Epoch 75/400\n",
      "42393/42393 [==============================] - 3s 73us/step - loss: 6.7972e-04 - acc: 0.0000e+00 - mean_squared_error: 6.7972e-04 - mean_squared_logarithmic_error: 1.6876e-04 - val_loss: 8.8335e-04 - val_acc: 0.0000e+00 - val_mean_squared_error: 8.8335e-04 - val_mean_squared_logarithmic_error: 2.2107e-04\n",
      "Epoch 76/400\n",
      "42393/42393 [==============================] - 3s 73us/step - loss: 6.7828e-04 - acc: 0.0000e+00 - mean_squared_error: 6.7828e-04 - mean_squared_logarithmic_error: 1.6844e-04 - val_loss: 8.7053e-04 - val_acc: 0.0000e+00 - val_mean_squared_error: 8.7053e-04 - val_mean_squared_logarithmic_error: 2.1762e-04\n",
      "Epoch 77/400\n",
      "42393/42393 [==============================] - 3s 74us/step - loss: 6.6492e-04 - acc: 0.0000e+00 - mean_squared_error: 6.6492e-04 - mean_squared_logarithmic_error: 1.6502e-04 - val_loss: 8.8440e-04 - val_acc: 0.0000e+00 - val_mean_squared_error: 8.8440e-04 - val_mean_squared_logarithmic_error: 2.2123e-04\n",
      "Epoch 78/400\n",
      "42393/42393 [==============================] - 3s 74us/step - loss: 6.6050e-04 - acc: 0.0000e+00 - mean_squared_error: 6.6050e-04 - mean_squared_logarithmic_error: 1.6392e-04 - val_loss: 8.9123e-04 - val_acc: 0.0000e+00 - val_mean_squared_error: 8.9123e-04 - val_mean_squared_logarithmic_error: 2.2298e-04\n",
      "Epoch 79/400\n",
      "42393/42393 [==============================] - 3s 74us/step - loss: 6.6078e-04 - acc: 0.0000e+00 - mean_squared_error: 6.6078e-04 - mean_squared_logarithmic_error: 1.6395e-04 - val_loss: 8.9839e-04 - val_acc: 0.0000e+00 - val_mean_squared_error: 8.9839e-04 - val_mean_squared_logarithmic_error: 2.2468e-04\n"
     ]
    }
   ],
   "source": [
    "history = model.fit([jet_images_train, df_jets_train['jet_pt'], df_jets_train['jet_eta']],  df_jets_train['jet_jes'],\n",
    "                    validation_data=([jet_images_test, df_jets_test['jet_pt'], df_jets_test['jet_eta']], df_jets_test['jet_jes']),\n",
    "                    nb_epoch=400, batch_size=bs, verbose=1, callbacks=[early_stopping])"
   ]
  },
  {
   "cell_type": "code",
   "execution_count": 9,
   "metadata": {},
   "outputs": [
    {
     "data": {
      "image/png": "[encoded data removed]",
      "text/plain": [
       "<matplotlib.figure.Figure at 0x7fd7f44bb9d0>"
      ]
     },
     "metadata": {},
     "output_type": "display_data"
    }
   ],
   "source": [
    "import matplotlib as mpl\n",
    "import matplotlib.pyplot as plt\n",
    "%matplotlib inline\n",
    "\n",
    "plt.figure(figsize=(8,6))\n",
    "\n",
    "loss = np.asarray(history.history['loss'])\n",
    "val_loss = np.asarray(history.history['val_loss'])\n",
    "plt.plot(loss, label='train')\n",
    "plt.plot(val_loss, label='test')\n",
    "plt.legend()\n",
    "plt.xlabel('epoch')\n",
    "plt.ylabel('Loss (MSE)')\n",
    "plt.yscale('log')\n",
    "\n",
    "plt.savefig('plots/{}/train_val_loss_{}.pdf'.format(radius, radius))"
   ]
  },
  {
   "cell_type": "code",
   "execution_count": 10,
   "metadata": {
    "collapsed": true
   },
   "outputs": [],
   "source": [
    "model.save('models/{}/DeepJEC_{}.h5'.format(radius, radius))\n",
    "df_jets_train.to_pickle('data/{}/df_jets_train_{}.pkl'.format(radius, radius))\n",
    "df_jets_test.to_pickle('data/{}/df_jets_test_{}.pkl'.format(radius, radius))"
   ]
  },
  {
   "cell_type": "code",
   "execution_count": null,
   "metadata": {
    "collapsed": true
   },
   "outputs": [],
   "source": []
  }
 ],
 "metadata": {
  "kernelspec": {
   "display_name": "Python 2",
   "language": "python",
   "name": "python2"
  },
  "language_info": {
   "codemirror_mode": {
    "name": "ipython",
    "version": 2
   },
   "file_extension": ".py",
   "mimetype": "text/x-python",
   "name": "python",
   "nbconvert_exporter": "python",
   "pygments_lexer": "ipython2",
   "version": "2.7.12"
  }
 },
 "nbformat": 4,
 "nbformat_minor": 2
}
