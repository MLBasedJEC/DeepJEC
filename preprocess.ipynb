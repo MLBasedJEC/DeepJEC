{
 "cells": [
  {
   "cell_type": "markdown",
   "metadata": {},
   "source": [
    "# Preprocess\n",
    "#### Takes raw numpy arrays, converts them to dataframes,  generates jet images, and normalizes variables"
   ]
  },
  {
   "cell_type": "markdown",
   "metadata": {},
   "source": [
    "## Setup"
   ]
  },
  {
   "cell_type": "code",
   "execution_count": 1,
   "metadata": {},
   "outputs": [
    {
     "name": "stderr",
     "output_type": "stream",
     "text": [
      "Using TensorFlow backend.\n"
     ]
    }
   ],
   "source": [
    "import glob\n",
    "import os\n",
    "import time\n",
    "\n",
    "import numpy as np\n",
    "seed = 7\n",
    "np.random.seed(seed)\n",
    "import pandas as pd\n",
    "from keras import backend as K\n",
    "\n",
    "import matplotlib as mpl\n",
    "import matplotlib.pyplot as plt\n",
    "%matplotlib inline"
   ]
  },
  {
   "cell_type": "code",
   "execution_count": 2,
   "metadata": {
    "collapsed": true
   },
   "outputs": [],
   "source": [
    "####################\n",
    "# Global Variables #\n",
    "####################\n",
    "radius = 'ak5' # Jet radius to use. Either 'ak5' or 'ak7'\n",
    "\n",
    "nx = 25 if radius == 'ak5' else 30 # size of image in eta\n",
    "ny = 25 if radius == 'ak5' else 30 # size of image in phi\n",
    "xbins = np.linspace(-1.0,1.0,nx+1)\n",
    "ybins = np.linspace(-1.0,1.0,ny+1)"
   ]
  },
  {
   "cell_type": "markdown",
   "metadata": {},
   "source": [
    "## Functions"
   ]
  },
  {
   "cell_type": "code",
   "execution_count": 3,
   "metadata": {
    "collapsed": true
   },
   "outputs": [],
   "source": [
    "def make_jet_images(df_jets, df_cands):\n",
    "    njets = len(df_jets)\n",
    "    x_coords, y_coords, w_values = [], [], []    \n",
    "    jet_images=np.zeros((njets, nx, ny, 1)) # 4D tensor with indices: jet index, eta, phi, pt/rgb value\n",
    "\n",
    "    for i in range(0, njets):\n",
    "        \n",
    "        if i%10000==0: print('\\tProcessed {} events out of {}'.format(i, njets))\n",
    "\n",
    "        # Get the pf cands of the ith jet by matching the jet to its pf cands\n",
    "        df_cand_i = df_cands[(df_cands['pfcand_ijet'] == df_jets['pfcand_ijet'].iloc[i]) &\n",
    "                             (df_cands['event'] == df_jets['event'].iloc[i]) &\n",
    "                             (df_cands['jet_pt'] == df_jets['jet_pt'].iloc[i])]\n",
    "\n",
    "        # Center jet on highest pt pf cand and convert (eta, phi) coordinates to (x, y)\n",
    "        x = df_cand_i['pfcand_eta']-df_cand_i['pfcand_eta'].iloc[0]\n",
    "        y = df_cand_i['pfcand_phi']-df_cand_i['pfcand_phi'].iloc[0]\n",
    "        weights = df_cand_i['pfcand_pt'] # pt of candidate is the weight\n",
    "\n",
    "        # Store values\n",
    "        x_coords.append(x)\n",
    "        y_coords.append(y)\n",
    "        w_values.append(weights)\n",
    "        \n",
    "        # Create a 2D histogram representing the jet image and then convert to an array\n",
    "        hist, xedges, yedges = np.histogram2d(x.values, y.values, weights=weights, bins=(xbins,ybins))\n",
    "        for ix in range(0,nx):\n",
    "            for iy in range(0,ny):\n",
    "                jet_images[i,ix,iy,0] = hist[ix,iy]\n",
    "\n",
    "    # Store values for all jets\n",
    "    all_x = np.concatenate(x_coords)\n",
    "    all_y = np.concatenate(y_coords)\n",
    "    all_w = np.concatenate(w_values)\n",
    "    all_w /= njets # To get average values\n",
    "    \n",
    "    return jet_images, [all_x, all_y, all_w]"
   ]
  },
  {
   "cell_type": "code",
   "execution_count": 4,
   "metadata": {
    "collapsed": true
   },
   "outputs": [],
   "source": [
    "def process_one(infile):\n",
    "    start = time.clock()\n",
    "    \n",
    "    # Load file\n",
    "    data = np.load(infile)\n",
    "    \n",
    "    # Create dataframes holding the jet-level information and pf candidate-level information\n",
    "    df_jets = pd.DataFrame(data,columns=['run','lumi','event','met','sumet','rho','pthat','mcweight','njet','jet_pt','jet_eta','jet_phi','jet_E','jet_area','jet_jes','gen_pt','jet_gen_dr',\n",
    "                                                  'chf','nhf','phf','elf','muf','hf_hf','hf_phf','hf_hm','hf_phm','chm','nhm','phm','elm','mum','beta','bstar','pfcand_ijet'])\n",
    "    df_jets = df_jets.drop_duplicates()\n",
    "    df_jets = df_jets[(df_jets.jet_pt > 50)]\n",
    "\n",
    "    df_cands = pd.DataFrame(data, columns=['event', 'jet_pt', 'jet_eta', 'jet_phi','pfcand_pt', 'pfcand_eta', 'pfcand_phi', 'pfcand_id', 'pfcand_charge', 'pfcand_ijet'])\n",
    "    df_cands = df_cands[(df_cands.jet_pt > 50)]\n",
    "        \n",
    "    # Make jet images\n",
    "    jet_images, avg_image = make_jet_images(df_jets, df_cands)\n",
    "\n",
    "    # Add jet images to dataframe\n",
    "    df_jets['jet_images'] = [x for x in jet_images]\n",
    "\n",
    "    end = time.clock()\n",
    "    mins = (end-start)/60.\n",
    "    \n",
    "    print('\\n\\tFinished file in {:.2f} minutes ({:.2f} events/minute)\\n'.format(mins, len(df_jets)/mins))\n",
    "    return df_jets"
   ]
  },
  {
   "cell_type": "markdown",
   "metadata": {},
   "source": [
    "## Processing"
   ]
  },
  {
   "cell_type": "markdown",
   "metadata": {},
   "source": [
    "#### Process each file individually"
   ]
  },
  {
   "cell_type": "code",
   "execution_count": 5,
   "metadata": {
    "collapsed": true
   },
   "outputs": [],
   "source": [
    "first_file, last_file = 1, 26\n",
    "files = ['/cms-sc17/deepjec/{}PFJetsParams0_{}.npy'.format(radius, x) for x in range(first_file, last_file+1)]"
   ]
  },
  {
   "cell_type": "code",
   "execution_count": 6,
   "metadata": {
    "scrolled": true
   },
   "outputs": [
    {
     "name": "stdout",
     "output_type": "stream",
     "text": [
      "File 26 out of 26\n",
      "\tProcessed 0 events out of 80638\n",
      "\tProcessed 10000 events out of 80638\n",
      "\tProcessed 20000 events out of 80638\n",
      "\tProcessed 30000 events out of 80638\n",
      "\tProcessed 40000 events out of 80638\n",
      "\tProcessed 50000 events out of 80638\n",
      "\tProcessed 60000 events out of 80638\n",
      "\tProcessed 70000 events out of 80638\n",
      "\tProcessed 80000 events out of 80638\n",
      "\n",
      "\tFinished file in 12.55 minutes (6424.57 events/minute)\n",
      "\n"
     ]
    }
   ],
   "source": [
    "for i, infile in enumerate(files, first_file):    \n",
    "    if i==8: continue; # Missing file 8\n",
    "    print('File {} out of {}'.format(i, last_file))\n",
    "    df = process_one(infile)\n",
    "    # Save files as you go, so you don't always have to run over all files\n",
    "    df.to_pickle('data/{}/df_jets_{}_{}.pkl'.format(radius, radius, i))"
   ]
  },
  {
   "cell_type": "markdown",
   "metadata": {},
   "source": [
    "#### Concat all the files together before normalizing values"
   ]
  },
  {
   "cell_type": "code",
   "execution_count": 7,
   "metadata": {},
   "outputs": [
    {
     "name": "stdout",
     "output_type": "stream",
     "text": [
      "Dataframe shape:\n",
      "\t(2141269, 35)\n",
      "Dataframe columns:\n",
      "\tIndex([u'run', u'lumi', u'event', u'met', u'sumet', u'rho', u'pthat',\n",
      "       u'mcweight', u'njet', u'jet_pt', u'jet_eta', u'jet_phi', u'jet_E',\n",
      "       u'jet_area', u'jet_jes', u'gen_pt', u'jet_gen_dr', u'chf', u'nhf',\n",
      "       u'phf', u'elf', u'muf', u'hf_hf', u'hf_phf', u'hf_hm', u'hf_phm',\n",
      "       u'chm', u'nhm', u'phm', u'elm', u'mum', u'beta', u'bstar',\n",
      "       u'pfcand_ijet', u'jet_images'],\n",
      "      dtype='object')\n"
     ]
    }
   ],
   "source": [
    "dfs = []\n",
    "for i in range(first_file, last_file+1):\n",
    "    if i==8: continue; # Missing file 8    \n",
    "    dfs.append(pd.read_pickle('data/{}/df_jets_{}_{}.pkl'.format(radius, radius, i)))\n",
    "\n",
    "df_all = pd.concat(dfs)\n",
    "\n",
    "print('Dataframe shape:\\n\\t{}'.format(df_all.shape))\n",
    "print('Dataframe columns:\\n\\t{}'.format(df_all.columns))"
   ]
  },
  {
   "cell_type": "markdown",
   "metadata": {},
   "source": [
    "#### Drop all entries with gen_pt < 0 "
   ]
  },
  {
   "cell_type": "code",
   "execution_count": null,
   "metadata": {
    "collapsed": true
   },
   "outputs": [],
   "source": [
    "df_all = df_all.drop(df_all.gen_pt < 0)\n",
    "print('Number of events = {}'.format(len(df_all)))"
   ]
  },
  {
   "cell_type": "markdown",
   "metadata": {
    "collapsed": true
   },
   "source": [
    "## Plots"
   ]
  },
  {
   "cell_type": "markdown",
   "metadata": {},
   "source": [
    "#### Check to make sure the variables look okay"
   ]
  },
  {
   "cell_type": "code",
   "execution_count": 8,
   "metadata": {},
   "outputs": [
    {
     "data": {
      "image/png": "[encoded data removed]",
      "text/plain": [
       "<matplotlib.figure.Figure at 0x7f5b7244ac10>"
      ]
     },
     "metadata": {},
     "output_type": "display_data"
    }
   ],
   "source": [
    "# Average jet image\n",
    "avg_image = np.sum(df_all.jet_images)/len(df_all)\n",
    "\n",
    "fig, ax = plt.subplots()\n",
    "cax = ax.matshow(avg_image.reshape((nx, ny)), norm=mpl.colors.LogNorm())\n",
    "cbar = fig.colorbar(cax, ticks=[0.0000001, 0.00001, 0.001, 0.1, 1, 10, 100])"
   ]
  },
  {
   "cell_type": "code",
   "execution_count": 9,
   "metadata": {},
   "outputs": [
    {
     "data": {
      "image/png": "[encoded data removed]",
      "text/plain": [
       "<matplotlib.figure.Figure at 0x7f5b4813ae10>"
      ]
     },
     "metadata": {},
     "output_type": "display_data"
    }
   ],
   "source": [
    "bins=np.linspace(0.8,1.2,20)\n",
    "plt.figure()\n",
    "plt.hist(df_all['gen_pt']/df_all['jet_pt'], label='gen/reco pT', alpha=0.5, bins=bins, normed=True)\n",
    "plt.hist(df_all['jet_jes'], label='JES', alpha=0.5, bins=bins, normed=True)\n",
    "plt.legend()\n",
    "plt.show()"
   ]
  },
  {
   "cell_type": "code",
   "execution_count": 10,
   "metadata": {},
   "outputs": [
    {
     "data": {
      "image/png": "[encoded data removed]",
      "text/plain": [
       "<matplotlib.figure.Figure at 0x7f5b4a265810>"
      ]
     },
     "metadata": {},
     "output_type": "display_data"
    }
   ],
   "source": [
    "plt.hist(df_all['jet_jes'], label='full sample', alpha=0.5, normed=True)\n",
    "plt.legend()\n",
    "plt.yscale('log')\n",
    "plt.xlabel('JES')\n",
    "plt.show()"
   ]
  },
  {
   "cell_type": "code",
   "execution_count": 11,
   "metadata": {},
   "outputs": [
    {
     "data": {
      "image/png": "[encoded data removed]",
      "text/plain": [
       "<matplotlib.figure.Figure at 0x7f5b47ccf250>"
      ]
     },
     "metadata": {},
     "output_type": "display_data"
    }
   ],
   "source": [
    "plt.figure()\n",
    "bins = np.linspace(0.9, 1.1, 50)\n",
    "plt.hist(df_all['jet_jes'][(df_all['jet_pt']>150) & \n",
    "                             (df_all['jet_pt']<180) & \n",
    "                             (df_all['jet_eta']>-0.5) & \n",
    "                             (df_all['jet_eta']<0.5)], bins, label='150<pt<180, |eta|<0.5', alpha=0.5, normed=True)\n",
    "plt.hist(df_all['jet_jes'][(df_all['jet_pt']>150) & \n",
    "                             (df_all['jet_pt']<180) & \n",
    "                             (df_all['jet_eta']>-0.5) & \n",
    "                             (df_all['jet_eta']<0.5) &\n",
    "                             (df_all['chm'] > 10)], bins, label='150<pt<180, |eta|<0.5, chm > 10', alpha=0.5, normed=True)\n",
    "plt.hist(df_all['jet_jes'][(df_all['jet_pt']>150) & \n",
    "                             (df_all['jet_pt']<180) & \n",
    "                             (df_all['jet_eta']>-0.5) & \n",
    "                             (df_all['jet_eta']<0.5) &\n",
    "                             (df_all['chm'] < 10)], bins, label='150<pt<180, |eta|<0.5, chm < 10', alpha=0.5, normed=True)\n",
    "plt.xlabel('Jet Energy Scale')\n",
    "plt.legend(loc='upper left')\n",
    "plt.show()"
   ]
  },
  {
   "cell_type": "code",
   "execution_count": 12,
   "metadata": {},
   "outputs": [
    {
     "data": {
      "image/png": "[encoded data removed]",
      "text/plain": [
       "<matplotlib.figure.Figure at 0x7f5b4802e610>"
      ]
     },
     "metadata": {},
     "output_type": "display_data"
    },
    {
     "data": {
      "image/png": "[encoded data removed]",
      "text/plain": [
       "<matplotlib.figure.Figure at 0x7f5b43c14fd0>"
      ]
     },
     "metadata": {},
     "output_type": "display_data"
    }
   ],
   "source": [
    "plt.figure()\n",
    "plt.hist2d(df_all['jet_pt'], df_all['chm'], bins=(100, 60), norm=mpl.colors.LogNorm())\n",
    "plt.colorbar()\n",
    "plt.xlabel('jet_pt')\n",
    "plt.ylabel('chm')\n",
    "plt.show()\n",
    "plt.figure()\n",
    "plt.hist2d(df_all['jet_eta'], df_all['chm'], bins=(100, 60), norm=mpl.colors.LogNorm())\n",
    "plt.colorbar()\n",
    "plt.xlabel('jet_eta')\n",
    "plt.ylabel('chm')\n",
    "plt.show()"
   ]
  },
  {
   "cell_type": "code",
   "execution_count": 13,
   "metadata": {},
   "outputs": [
    {
     "data": {
      "image/png": "[encoded data removed]",
      "text/plain": [
       "<matplotlib.figure.Figure at 0x7f5b47c77fd0>"
      ]
     },
     "metadata": {},
     "output_type": "display_data"
    }
   ],
   "source": [
    "plt.figure()\n",
    "plt.hist2d(df_all['chm'], df_all['jet_jes'], bins=(100, 60), norm=mpl.colors.LogNorm())\n",
    "plt.colorbar()\n",
    "plt.ylabel('jet_jes')\n",
    "plt.xlabel('chm')\n",
    "plt.show()"
   ]
  },
  {
   "cell_type": "code",
   "execution_count": 14,
   "metadata": {},
   "outputs": [
    {
     "name": "stderr",
     "output_type": "stream",
     "text": [
      "/usr/lib64/python2.7/dist-packages/matplotlib/axes/_axes.py:6201: RuntimeWarning: invalid value encountered in true_divide\n",
      "  m = (m.astype(float) / db) / m.sum()\n"
     ]
    },
    {
     "data": {
      "image/png": "[encoded data removed]",
      "text/plain": [
       "<matplotlib.figure.Figure at 0x7f5b47f1e350>"
      ]
     },
     "metadata": {},
     "output_type": "display_data"
    }
   ],
   "source": [
    "plt.figure()\n",
    "bins = np.linspace(0, 50, 25)\n",
    "plt.hist(df_all['chm'][(df_all['jet_pt']>150) & \n",
    "                             (df_all['jet_pt']<180) & \n",
    "                             (df_all['jet_eta']>-0.5) & \n",
    "                             (df_all['jet_eta']<0.5)], bins, label='150<pt<180, |eta|<0.5', alpha=0.5, normed=True)\n",
    "plt.hist(df_all['chm'][(df_all['jet_pt']>150) & \n",
    "                             (df_all['jet_pt']<180) & \n",
    "                             (df_all['jet_eta']>-0.5) & \n",
    "                             (df_all['jet_eta']<0.5) &\n",
    "                             (df_all['jet_jes'] > 1.0)], bins, label='150<pt<180, |eta|<0.5, jes > 1.1', alpha=0.5, normed=True)\n",
    "plt.hist(df_all['chm'][(df_all['jet_pt']>150) & \n",
    "                             (df_all['jet_pt']<180) & \n",
    "                             (df_all['jet_eta']>-0.5) & \n",
    "                             (df_all['jet_eta']<0.5) &\n",
    "                             (df_all['jet_jes'] < 1.0)], bins, label='150<pt<180, |eta|<0.5, jes < 0.9', alpha=0.5, normed=True)\n",
    "plt.xlabel('Charged Hadron Multiplicity')\n",
    "plt.legend(loc='lower right')\n",
    "plt.show()"
   ]
  },
  {
   "cell_type": "markdown",
   "metadata": {},
   "source": [
    "## Finish preprocessing"
   ]
  },
  {
   "cell_type": "markdown",
   "metadata": {},
   "source": [
    "#### Normalize variables"
   ]
  },
  {
   "cell_type": "code",
   "execution_count": 15,
   "metadata": {
    "collapsed": true
   },
   "outputs": [],
   "source": [
    "from sklearn.preprocessing import StandardScaler\n",
    "scaler = StandardScaler()\n",
    "df_all['jet_pt'] = scaler.fit_transform(df_all['jet_pt'].values.reshape(-1,1))\n",
    "df_all['jet_eta'] /= 2.5\n",
    "df_all['jet_phi'] /= 3.14"
   ]
  },
  {
   "cell_type": "markdown",
   "metadata": {},
   "source": [
    "#### Split data into train/val/test sets and save files"
   ]
  },
  {
   "cell_type": "code",
   "execution_count": 16,
   "metadata": {},
   "outputs": [
    {
     "name": "stdout",
     "output_type": "stream",
     "text": [
      "Training events = 1713015, Validation events = 428254, Testing events = 0\n"
     ]
    }
   ],
   "source": [
    "from sklearn.model_selection import train_test_split\n",
    "df_all_train, df_all_val = train_test_split(df_all, train_size=0.8, random_state = seed)\n",
    "# df_all_val, df_all_test = train_test_split(df_all_val, train_size=0.5, random_state=seed)\n",
    "\n",
    "print('Training events = {}, Validation events = {}, Testing events = {}'.format(df_all_train.shape[0], df_all_val.shape[0], 0))"
   ]
  },
  {
   "cell_type": "code",
   "execution_count": 17,
   "metadata": {
    "collapsed": true
   },
   "outputs": [],
   "source": [
    "# Remove intermediary files due to disk space limitations\n",
    "if False:\n",
    "    for i in range(first_file, last_file+1):\n",
    "        if i==8: continue; ## Missing file 8\n",
    "        os.system('rm data/{}/df_jets_{}_{}.pkl'.format(radius, radius, i))"
   ]
  },
  {
   "cell_type": "code",
   "execution_count": 18,
   "metadata": {
    "collapsed": true
   },
   "outputs": [],
   "source": [
    "# Save combined dfs to disk\n",
    "df_all_train.to_pickle('data/{}/df_jets_{}_train.pkl'.format(radius, radius))\n",
    "df_all_val.to_pickle('data/{}/df_jets_{}_val.pkl'.format(radius, radius))"
   ]
  },
  {
   "cell_type": "code",
   "execution_count": null,
   "metadata": {
    "collapsed": true
   },
   "outputs": [],
   "source": []
  }
 ],
 "metadata": {
  "kernelspec": {
   "display_name": "Python 2",
   "language": "python",
   "name": "python2"
  },
  "language_info": {
   "codemirror_mode": {
    "name": "ipython",
    "version": 2
   },
   "file_extension": ".py",
   "mimetype": "text/x-python",
   "name": "python",
   "nbconvert_exporter": "python",
   "pygments_lexer": "ipython2",
   "version": "2.7.12"
  }
 },
 "nbformat": 4,
 "nbformat_minor": 2
}
